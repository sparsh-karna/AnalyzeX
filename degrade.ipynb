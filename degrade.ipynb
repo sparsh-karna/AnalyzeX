{
 "cells": [
  {
   "cell_type": "code",
   "execution_count": 5,
   "id": "6b07ca30-cfb6-47d4-ae1d-6fc21405d5c3",
   "metadata": {},
   "outputs": [
    {
     "name": "stdout",
     "output_type": "stream",
     "text": [
      "Requirement already satisfied: arxiv in /opt/miniconda3/lib/python3.12/site-packages (2.1.3)\n",
      "Requirement already satisfied: nltk in /opt/miniconda3/lib/python3.12/site-packages (3.9.1)\n",
      "Requirement already satisfied: tqdm in /opt/miniconda3/lib/python3.12/site-packages (4.66.4)\n",
      "Requirement already satisfied: feedparser~=6.0.10 in /opt/miniconda3/lib/python3.12/site-packages (from arxiv) (6.0.11)\n",
      "Requirement already satisfied: requests~=2.32.0 in /opt/miniconda3/lib/python3.12/site-packages (from arxiv) (2.32.3)\n",
      "Requirement already satisfied: click in /opt/miniconda3/lib/python3.12/site-packages (from nltk) (8.1.8)\n",
      "Requirement already satisfied: joblib in /opt/miniconda3/lib/python3.12/site-packages (from nltk) (1.4.2)\n",
      "Requirement already satisfied: regex>=2021.8.3 in /opt/miniconda3/lib/python3.12/site-packages (from nltk) (2024.11.6)\n",
      "Requirement already satisfied: sgmllib3k in /opt/miniconda3/lib/python3.12/site-packages (from feedparser~=6.0.10->arxiv) (1.0.0)\n",
      "Requirement already satisfied: charset-normalizer<4,>=2 in /opt/miniconda3/lib/python3.12/site-packages (from requests~=2.32.0->arxiv) (3.3.2)\n",
      "Requirement already satisfied: idna<4,>=2.5 in /opt/miniconda3/lib/python3.12/site-packages (from requests~=2.32.0->arxiv) (3.7)\n",
      "Requirement already satisfied: urllib3<3,>=1.21.1 in /opt/miniconda3/lib/python3.12/site-packages (from requests~=2.32.0->arxiv) (2.2.2)\n",
      "Requirement already satisfied: certifi>=2017.4.17 in /opt/miniconda3/lib/python3.12/site-packages (from requests~=2.32.0->arxiv) (2024.7.4)\n"
     ]
    }
   ],
   "source": [
    "!pip install arxiv nltk tqdm"
   ]
  },
  {
   "cell_type": "code",
   "execution_count": 16,
   "id": "67006c2e-68fe-4fee-81b9-442e161a08a3",
   "metadata": {},
   "outputs": [
    {
     "name": "stdout",
     "output_type": "stream",
     "text": [
      "Processing PDFs from original_pdfs...\n",
      "Found 395 papers to process.\n"
     ]
    },
    {
     "name": "stderr",
     "output_type": "stream",
     "text": [
      "Processing Papers:   0%|                                                                                                                                   | 0/395 [00:00<?, ?paper/s]"
     ]
    },
    {
     "name": "stdout",
     "output_type": "stream",
     "text": [
      "Processing: original_pdfs/paper_313.pdf\n"
     ]
    },
    {
     "name": "stderr",
     "output_type": "stream",
     "text": [
      "Processing Papers:   0%|▎                                                                                                                          | 1/395 [00:00<02:19,  2.82paper/s]"
     ]
    },
    {
     "name": "stdout",
     "output_type": "stream",
     "text": [
      "Saved degraded: degraded_pdfs_2/degraded_paper_313.pdf\n",
      "Processing: original_pdfs/paper_307.pdf\n"
     ]
    },
    {
     "name": "stderr",
     "output_type": "stream",
     "text": [
      "Processing Papers:   1%|▌                                                                                                                          | 2/395 [00:00<03:24,  1.92paper/s]"
     ]
    },
    {
     "name": "stdout",
     "output_type": "stream",
     "text": [
      "Saved degraded: degraded_pdfs_2/degraded_paper_307.pdf\n",
      "Processing: original_pdfs/paper_111.pdf\n"
     ]
    },
    {
     "name": "stderr",
     "output_type": "stream",
     "text": [
      "Processing Papers:   1%|█▏                                                                                                                         | 4/395 [00:01<02:30,  2.60paper/s]"
     ]
    },
    {
     "name": "stdout",
     "output_type": "stream",
     "text": [
      "Saved degraded: degraded_pdfs_2/degraded_paper_111.pdf\n",
      "Processing: original_pdfs/paper_15.pdf\n",
      "Saved degraded: degraded_pdfs_2/degraded_paper_15.pdf\n",
      "Processing: original_pdfs/paper_105.pdf\n"
     ]
    },
    {
     "name": "stderr",
     "output_type": "stream",
     "text": [
      "Processing Papers:   1%|█▌                                                                                                                         | 5/395 [00:02<02:22,  2.73paper/s]"
     ]
    },
    {
     "name": "stdout",
     "output_type": "stream",
     "text": [
      "Saved degraded: degraded_pdfs_2/degraded_paper_105.pdf\n",
      "Processing: original_pdfs/paper_29.pdf\n"
     ]
    },
    {
     "name": "stderr",
     "output_type": "stream",
     "text": [
      "Processing Papers:   2%|█▊                                                                                                                         | 6/395 [00:02<02:39,  2.44paper/s]"
     ]
    },
    {
     "name": "stdout",
     "output_type": "stream",
     "text": [
      "Saved degraded: degraded_pdfs_2/degraded_paper_29.pdf\n",
      "Processing: original_pdfs/paper_139.pdf\n"
     ]
    },
    {
     "name": "stderr",
     "output_type": "stream",
     "text": [
      "Processing Papers:   2%|██▏                                                                                                                        | 7/395 [00:02<02:18,  2.80paper/s]"
     ]
    },
    {
     "name": "stdout",
     "output_type": "stream",
     "text": [
      "Saved degraded: degraded_pdfs_2/degraded_paper_139.pdf\n",
      "Processing: original_pdfs/paper_267.pdf\n"
     ]
    },
    {
     "name": "stderr",
     "output_type": "stream",
     "text": [
      "Processing Papers:   2%|██▍                                                                                                                        | 8/395 [00:03<02:41,  2.40paper/s]"
     ]
    },
    {
     "name": "stdout",
     "output_type": "stream",
     "text": [
      "Saved degraded: degraded_pdfs_2/degraded_paper_267.pdf\n",
      "Processing: original_pdfs/paper_273.pdf\n"
     ]
    },
    {
     "name": "stderr",
     "output_type": "stream",
     "text": [
      "Processing Papers:   2%|██▊                                                                                                                        | 9/395 [00:03<03:04,  2.10paper/s]"
     ]
    },
    {
     "name": "stdout",
     "output_type": "stream",
     "text": [
      "Saved degraded: degraded_pdfs_2/degraded_paper_273.pdf\n",
      "Processing: original_pdfs/paper_298.pdf\n"
     ]
    },
    {
     "name": "stderr",
     "output_type": "stream",
     "text": [
      "Processing Papers:   3%|███                                                                                                                       | 10/395 [00:04<02:58,  2.16paper/s]"
     ]
    },
    {
     "name": "stdout",
     "output_type": "stream",
     "text": [
      "Saved degraded: degraded_pdfs_2/degraded_paper_298.pdf\n",
      "Processing: original_pdfs/paper_299.pdf\n"
     ]
    },
    {
     "name": "stderr",
     "output_type": "stream",
     "text": [
      "Processing Papers:   3%|███▍                                                                                                                      | 11/395 [00:05<03:22,  1.90paper/s]"
     ]
    },
    {
     "name": "stdout",
     "output_type": "stream",
     "text": [
      "Saved degraded: degraded_pdfs_2/degraded_paper_299.pdf\n",
      "Processing: original_pdfs/paper_272.pdf\n"
     ]
    },
    {
     "name": "stderr",
     "output_type": "stream",
     "text": [
      "Processing Papers:   3%|████                                                                                                                      | 13/395 [00:05<02:30,  2.55paper/s]"
     ]
    },
    {
     "name": "stdout",
     "output_type": "stream",
     "text": [
      "Saved degraded: degraded_pdfs_2/degraded_paper_272.pdf\n",
      "Processing: original_pdfs/paper_266.pdf\n",
      "Saved degraded: degraded_pdfs_2/degraded_paper_266.pdf\n",
      "Processing: original_pdfs/paper_138.pdf\n"
     ]
    },
    {
     "name": "stderr",
     "output_type": "stream",
     "text": [
      "Processing Papers:   4%|████▎                                                                                                                     | 14/395 [00:05<02:10,  2.91paper/s]"
     ]
    },
    {
     "name": "stdout",
     "output_type": "stream",
     "text": [
      "Saved degraded: degraded_pdfs_2/degraded_paper_138.pdf\n",
      "Processing: original_pdfs/paper_28.pdf\n"
     ]
    },
    {
     "name": "stderr",
     "output_type": "stream",
     "text": [
      "Processing Papers:   4%|████▋                                                                                                                     | 15/395 [00:06<02:17,  2.76paper/s]"
     ]
    },
    {
     "name": "stdout",
     "output_type": "stream",
     "text": [
      "Saved degraded: degraded_pdfs_2/degraded_paper_28.pdf\n",
      "Processing: original_pdfs/paper_104.pdf\n"
     ]
    },
    {
     "name": "stderr",
     "output_type": "stream",
     "text": [
      "Processing Papers:   4%|████▉                                                                                                                     | 16/395 [00:06<02:22,  2.66paper/s]"
     ]
    },
    {
     "name": "stdout",
     "output_type": "stream",
     "text": [
      "Saved degraded: degraded_pdfs_2/degraded_paper_104.pdf\n",
      "Processing: original_pdfs/paper_110.pdf\n"
     ]
    },
    {
     "name": "stderr",
     "output_type": "stream",
     "text": [
      "Processing Papers:   4%|█████▎                                                                                                                    | 17/395 [00:07<02:34,  2.45paper/s]"
     ]
    },
    {
     "name": "stdout",
     "output_type": "stream",
     "text": [
      "Saved degraded: degraded_pdfs_2/degraded_paper_110.pdf\n",
      "Processing: original_pdfs/paper_14.pdf\n"
     ]
    },
    {
     "name": "stderr",
     "output_type": "stream",
     "text": [
      "Processing Papers:   5%|█████▌                                                                                                                    | 18/395 [00:07<02:30,  2.50paper/s]"
     ]
    },
    {
     "name": "stdout",
     "output_type": "stream",
     "text": [
      "Saved degraded: degraded_pdfs_2/degraded_paper_14.pdf\n",
      "Processing: original_pdfs/paper_306.pdf\n"
     ]
    },
    {
     "name": "stderr",
     "output_type": "stream",
     "text": [
      "Processing Papers:   5%|█████▊                                                                                                                    | 19/395 [00:08<02:44,  2.29paper/s]"
     ]
    },
    {
     "name": "stdout",
     "output_type": "stream",
     "text": [
      "Saved degraded: degraded_pdfs_2/degraded_paper_306.pdf\n",
      "Processing: original_pdfs/paper_312.pdf\n"
     ]
    },
    {
     "name": "stderr",
     "output_type": "stream",
     "text": [
      "Processing Papers:   5%|██████▏                                                                                                                   | 20/395 [00:08<02:24,  2.60paper/s]"
     ]
    },
    {
     "name": "stdout",
     "output_type": "stream",
     "text": [
      "Saved degraded: degraded_pdfs_2/degraded_paper_312.pdf\n",
      "Processing: original_pdfs/paper_304.pdf\n"
     ]
    },
    {
     "name": "stderr",
     "output_type": "stream",
     "text": [
      "Processing Papers:   5%|██████▍                                                                                                                   | 21/395 [00:08<02:07,  2.93paper/s]"
     ]
    },
    {
     "name": "stdout",
     "output_type": "stream",
     "text": [
      "Saved degraded: degraded_pdfs_2/degraded_paper_304.pdf\n",
      "Processing: original_pdfs/paper_310.pdf\n"
     ]
    },
    {
     "name": "stderr",
     "output_type": "stream",
     "text": [
      "Processing Papers:   6%|██████▊                                                                                                                   | 22/395 [00:08<02:13,  2.79paper/s]"
     ]
    },
    {
     "name": "stdout",
     "output_type": "stream",
     "text": [
      "Saved degraded: degraded_pdfs_2/degraded_paper_310.pdf\n",
      "Processing: original_pdfs/paper_338.pdf\n"
     ]
    },
    {
     "name": "stderr",
     "output_type": "stream",
     "text": [
      "Processing Papers:   6%|███████                                                                                                                   | 23/395 [00:09<02:07,  2.93paper/s]"
     ]
    },
    {
     "name": "stdout",
     "output_type": "stream",
     "text": [
      "Saved degraded: degraded_pdfs_2/degraded_paper_338.pdf\n",
      "Processing: original_pdfs/paper_106.pdf\n"
     ]
    },
    {
     "name": "stderr",
     "output_type": "stream",
     "text": [
      "Processing Papers:   6%|███████▋                                                                                                                  | 25/395 [00:09<01:54,  3.23paper/s]"
     ]
    },
    {
     "name": "stdout",
     "output_type": "stream",
     "text": [
      "Saved degraded: degraded_pdfs_2/degraded_paper_106.pdf\n",
      "Processing: original_pdfs/paper_16.pdf\n",
      "Saved degraded: degraded_pdfs_2/degraded_paper_16.pdf\n",
      "Processing: original_pdfs/paper_112.pdf\n"
     ]
    },
    {
     "name": "stderr",
     "output_type": "stream",
     "text": [
      "Processing Papers:   7%|████████                                                                                                                  | 26/395 [00:09<01:39,  3.70paper/s]"
     ]
    },
    {
     "name": "stdout",
     "output_type": "stream",
     "text": [
      "Saved degraded: degraded_pdfs_2/degraded_paper_112.pdf\n",
      "Processing: original_pdfs/paper_270.pdf\n"
     ]
    },
    {
     "name": "stderr",
     "output_type": "stream",
     "text": [
      "Processing Papers:   7%|████████▎                                                                                                                 | 27/395 [00:11<03:29,  1.76paper/s]"
     ]
    },
    {
     "name": "stdout",
     "output_type": "stream",
     "text": [
      "Saved degraded: degraded_pdfs_2/degraded_paper_270.pdf\n",
      "Processing: original_pdfs/paper_264.pdf\n"
     ]
    },
    {
     "name": "stderr",
     "output_type": "stream",
     "text": [
      "Processing Papers:   7%|████████▋                                                                                                                 | 28/395 [00:11<03:01,  2.02paper/s]"
     ]
    },
    {
     "name": "stdout",
     "output_type": "stream",
     "text": [
      "Saved degraded: degraded_pdfs_2/degraded_paper_264.pdf\n",
      "Processing: original_pdfs/paper_258.pdf\n"
     ]
    },
    {
     "name": "stderr",
     "output_type": "stream",
     "text": [
      "Processing Papers:   7%|████████▉                                                                                                                 | 29/395 [00:11<02:40,  2.29paper/s]"
     ]
    },
    {
     "name": "stdout",
     "output_type": "stream",
     "text": [
      "Saved degraded: degraded_pdfs_2/degraded_paper_258.pdf\n",
      "Processing: original_pdfs/paper_259.pdf\n"
     ]
    },
    {
     "name": "stderr",
     "output_type": "stream",
     "text": [
      "Processing Papers:   8%|█████████▎                                                                                                                | 30/395 [00:12<02:30,  2.42paper/s]"
     ]
    },
    {
     "name": "stdout",
     "output_type": "stream",
     "text": [
      "Saved degraded: degraded_pdfs_2/degraded_paper_259.pdf\n",
      "Processing: original_pdfs/paper_265.pdf\n"
     ]
    },
    {
     "name": "stderr",
     "output_type": "stream",
     "text": [
      "Processing Papers:   8%|█████████▌                                                                                                                | 31/395 [00:12<02:37,  2.31paper/s]"
     ]
    },
    {
     "name": "stdout",
     "output_type": "stream",
     "text": [
      "Saved degraded: degraded_pdfs_2/degraded_paper_265.pdf\n",
      "Processing: original_pdfs/paper_271.pdf\n"
     ]
    },
    {
     "name": "stderr",
     "output_type": "stream",
     "text": [
      "Processing Papers:   8%|█████████▉                                                                                                                | 32/395 [00:13<02:25,  2.50paper/s]"
     ]
    },
    {
     "name": "stdout",
     "output_type": "stream",
     "text": [
      "Saved degraded: degraded_pdfs_2/degraded_paper_271.pdf\n",
      "Processing: original_pdfs/paper_17.pdf\n"
     ]
    },
    {
     "name": "stderr",
     "output_type": "stream",
     "text": [
      "Processing Papers:   8%|██████████▏                                                                                                               | 33/395 [00:13<03:05,  1.96paper/s]"
     ]
    },
    {
     "name": "stdout",
     "output_type": "stream",
     "text": [
      "Saved degraded: degraded_pdfs_2/degraded_paper_17.pdf\n",
      "Processing: original_pdfs/paper_113.pdf\n"
     ]
    },
    {
     "name": "stderr",
     "output_type": "stream",
     "text": [
      "Processing Papers:   9%|██████████▌                                                                                                               | 34/395 [00:14<02:46,  2.17paper/s]"
     ]
    },
    {
     "name": "stdout",
     "output_type": "stream",
     "text": [
      "Saved degraded: degraded_pdfs_2/degraded_paper_113.pdf\n",
      "Processing: original_pdfs/paper_107.pdf\n"
     ]
    },
    {
     "name": "stderr",
     "output_type": "stream",
     "text": [
      "Processing Papers:   9%|██████████▊                                                                                                               | 35/395 [00:14<02:50,  2.11paper/s]"
     ]
    },
    {
     "name": "stdout",
     "output_type": "stream",
     "text": [
      "Saved degraded: degraded_pdfs_2/degraded_paper_107.pdf\n",
      "Processing: original_pdfs/paper_339.pdf\n"
     ]
    },
    {
     "name": "stderr",
     "output_type": "stream",
     "text": [
      "Processing Papers:   9%|███████████                                                                                                               | 36/395 [00:15<03:08,  1.90paper/s]"
     ]
    },
    {
     "name": "stdout",
     "output_type": "stream",
     "text": [
      "Saved degraded: degraded_pdfs_2/degraded_paper_339.pdf\n",
      "Processing: original_pdfs/paper_311.pdf\n"
     ]
    },
    {
     "name": "stderr",
     "output_type": "stream",
     "text": [
      "Processing Papers:   9%|███████████▍                                                                                                              | 37/395 [00:15<02:52,  2.08paper/s]"
     ]
    },
    {
     "name": "stdout",
     "output_type": "stream",
     "text": [
      "Saved degraded: degraded_pdfs_2/degraded_paper_311.pdf\n",
      "Processing: original_pdfs/paper_305.pdf\n"
     ]
    },
    {
     "name": "stderr",
     "output_type": "stream",
     "text": [
      "Processing Papers:  10%|███████████▋                                                                                                              | 38/395 [00:15<02:29,  2.39paper/s]"
     ]
    },
    {
     "name": "stdout",
     "output_type": "stream",
     "text": [
      "Saved degraded: degraded_pdfs_2/degraded_paper_305.pdf\n",
      "Processing: original_pdfs/paper_301.pdf\n"
     ]
    },
    {
     "name": "stderr",
     "output_type": "stream",
     "text": [
      "Processing Papers:  10%|████████████                                                                                                              | 39/395 [00:16<03:33,  1.67paper/s]"
     ]
    },
    {
     "name": "stdout",
     "output_type": "stream",
     "text": [
      "Saved degraded: degraded_pdfs_2/degraded_paper_301.pdf\n",
      "Processing: original_pdfs/paper_315.pdf\n"
     ]
    },
    {
     "name": "stderr",
     "output_type": "stream",
     "text": [
      "Processing Papers:  10%|████████████▎                                                                                                             | 40/395 [00:17<04:05,  1.45paper/s]"
     ]
    },
    {
     "name": "stdout",
     "output_type": "stream",
     "text": [
      "Saved degraded: degraded_pdfs_2/degraded_paper_315.pdf\n",
      "Processing: original_pdfs/paper_103.pdf\n"
     ]
    },
    {
     "name": "stderr",
     "output_type": "stream",
     "text": [
      "Processing Papers:  10%|████████████▋                                                                                                             | 41/395 [00:18<03:39,  1.61paper/s]"
     ]
    },
    {
     "name": "stdout",
     "output_type": "stream",
     "text": [
      "Saved degraded: degraded_pdfs_2/degraded_paper_103.pdf\n",
      "Processing: original_pdfs/paper_117.pdf\n"
     ]
    },
    {
     "name": "stderr",
     "output_type": "stream",
     "text": [
      "Processing Papers:  11%|████████████▉                                                                                                             | 42/395 [00:18<03:24,  1.72paper/s]"
     ]
    },
    {
     "name": "stdout",
     "output_type": "stream",
     "text": [
      "Saved degraded: degraded_pdfs_2/degraded_paper_117.pdf\n",
      "Processing: original_pdfs/paper_13.pdf\n"
     ]
    },
    {
     "name": "stderr",
     "output_type": "stream",
     "text": [
      "Processing Papers:  11%|█████████████▎                                                                                                            | 43/395 [00:19<02:58,  1.98paper/s]"
     ]
    },
    {
     "name": "stdout",
     "output_type": "stream",
     "text": [
      "Saved degraded: degraded_pdfs_2/degraded_paper_13.pdf\n",
      "Processing: original_pdfs/paper_249.pdf\n"
     ]
    },
    {
     "name": "stderr",
     "output_type": "stream",
     "text": [
      "Processing Papers:  11%|█████████████▌                                                                                                            | 44/395 [00:19<02:35,  2.26paper/s]"
     ]
    },
    {
     "name": "stdout",
     "output_type": "stream",
     "text": [
      "Saved degraded: degraded_pdfs_2/degraded_paper_249.pdf\n",
      "Processing: original_pdfs/paper_275.pdf\n"
     ]
    },
    {
     "name": "stderr",
     "output_type": "stream",
     "text": [
      "Processing Papers:  11%|█████████████▉                                                                                                            | 45/395 [00:19<02:24,  2.42paper/s]"
     ]
    },
    {
     "name": "stdout",
     "output_type": "stream",
     "text": [
      "Saved degraded: degraded_pdfs_2/degraded_paper_275.pdf\n",
      "Processing: original_pdfs/paper_261.pdf\n"
     ]
    },
    {
     "name": "stderr",
     "output_type": "stream",
     "text": [
      "Processing Papers:  12%|██████████████▏                                                                                                           | 46/395 [00:20<02:12,  2.63paper/s]"
     ]
    },
    {
     "name": "stdout",
     "output_type": "stream",
     "text": [
      "Saved degraded: degraded_pdfs_2/degraded_paper_261.pdf\n",
      "Processing: original_pdfs/paper_260.pdf\n"
     ]
    },
    {
     "name": "stderr",
     "output_type": "stream",
     "text": [
      "Processing Papers:  12%|██████████████▌                                                                                                           | 47/395 [00:20<02:08,  2.71paper/s]"
     ]
    },
    {
     "name": "stdout",
     "output_type": "stream",
     "text": [
      "Saved degraded: degraded_pdfs_2/degraded_paper_260.pdf\n",
      "Processing: original_pdfs/paper_274.pdf\n"
     ]
    },
    {
     "name": "stderr",
     "output_type": "stream",
     "text": [
      "Processing Papers:  12%|██████████████▊                                                                                                           | 48/395 [00:20<01:59,  2.92paper/s]"
     ]
    },
    {
     "name": "stdout",
     "output_type": "stream",
     "text": [
      "Saved degraded: degraded_pdfs_2/degraded_paper_274.pdf\n",
      "Processing: original_pdfs/paper_248.pdf\n",
      "Saved degraded: degraded_pdfs_2/degraded_paper_248.pdf\n",
      "Processing: original_pdfs/paper_116.pdf\n"
     ]
    },
    {
     "name": "stderr",
     "output_type": "stream",
     "text": [
      "Processing Papers:  13%|███████████████▍                                                                                                          | 50/395 [00:21<01:48,  3.19paper/s]"
     ]
    },
    {
     "name": "stdout",
     "output_type": "stream",
     "text": [
      "Saved degraded: degraded_pdfs_2/degraded_paper_116.pdf\n",
      "Processing: original_pdfs/paper_12.pdf\n"
     ]
    },
    {
     "name": "stderr",
     "output_type": "stream",
     "text": [
      "Processing Papers:  13%|███████████████▊                                                                                                          | 51/395 [00:21<01:46,  3.24paper/s]"
     ]
    },
    {
     "name": "stdout",
     "output_type": "stream",
     "text": [
      "Saved degraded: degraded_pdfs_2/degraded_paper_12.pdf\n",
      "Processing: original_pdfs/paper_102.pdf\n"
     ]
    },
    {
     "name": "stderr",
     "output_type": "stream",
     "text": [
      "Processing Papers:  13%|████████████████                                                                                                          | 52/395 [00:21<01:48,  3.15paper/s]"
     ]
    },
    {
     "name": "stdout",
     "output_type": "stream",
     "text": [
      "Saved degraded: degraded_pdfs_2/degraded_paper_102.pdf\n",
      "Processing: original_pdfs/paper_314.pdf\n"
     ]
    },
    {
     "name": "stderr",
     "output_type": "stream",
     "text": [
      "Processing Papers:  13%|████████████████▎                                                                                                         | 53/395 [00:22<01:53,  3.02paper/s]"
     ]
    },
    {
     "name": "stdout",
     "output_type": "stream",
     "text": [
      "Saved degraded: degraded_pdfs_2/degraded_paper_314.pdf\n",
      "Processing: original_pdfs/paper_300.pdf\n"
     ]
    },
    {
     "name": "stderr",
     "output_type": "stream",
     "text": [
      "Processing Papers:  14%|████████████████▋                                                                                                         | 54/395 [00:22<02:10,  2.62paper/s]"
     ]
    },
    {
     "name": "stdout",
     "output_type": "stream",
     "text": [
      "Saved degraded: degraded_pdfs_2/degraded_paper_300.pdf\n",
      "Processing: original_pdfs/paper_328.pdf\n"
     ]
    },
    {
     "name": "stderr",
     "output_type": "stream",
     "text": [
      "Processing Papers:  14%|████████████████▉                                                                                                         | 55/395 [00:23<02:12,  2.56paper/s]"
     ]
    },
    {
     "name": "stdout",
     "output_type": "stream",
     "text": [
      "Saved degraded: degraded_pdfs_2/degraded_paper_328.pdf\n",
      "Processing: original_pdfs/paper_316.pdf\n"
     ]
    },
    {
     "name": "stderr",
     "output_type": "stream",
     "text": [
      "Processing Papers:  14%|█████████████████▎                                                                                                        | 56/395 [00:23<02:18,  2.44paper/s]"
     ]
    },
    {
     "name": "stdout",
     "output_type": "stream",
     "text": [
      "Saved degraded: degraded_pdfs_2/degraded_paper_316.pdf\n",
      "Processing: original_pdfs/paper_302.pdf\n"
     ]
    },
    {
     "name": "stderr",
     "output_type": "stream",
     "text": [
      "Processing Papers:  14%|█████████████████▌                                                                                                        | 57/395 [00:23<02:08,  2.63paper/s]"
     ]
    },
    {
     "name": "stdout",
     "output_type": "stream",
     "text": [
      "Saved degraded: degraded_pdfs_2/degraded_paper_302.pdf\n",
      "Processing: original_pdfs/paper_128.pdf\n"
     ]
    },
    {
     "name": "stderr",
     "output_type": "stream",
     "text": [
      "Processing Papers:  15%|█████████████████▉                                                                                                        | 58/395 [00:24<01:55,  2.92paper/s]"
     ]
    },
    {
     "name": "stdout",
     "output_type": "stream",
     "text": [
      "Saved degraded: degraded_pdfs_2/degraded_paper_128.pdf\n",
      "Processing: original_pdfs/paper_38.pdf\n"
     ]
    },
    {
     "name": "stderr",
     "output_type": "stream",
     "text": [
      "Processing Papers:  15%|██████████████████▏                                                                                                       | 59/395 [00:25<02:41,  2.08paper/s]"
     ]
    },
    {
     "name": "stdout",
     "output_type": "stream",
     "text": [
      "Saved degraded: degraded_pdfs_2/degraded_paper_38.pdf\n",
      "Processing: original_pdfs/paper_10.pdf\n"
     ]
    },
    {
     "name": "stderr",
     "output_type": "stream",
     "text": [
      "Processing Papers:  15%|██████████████████▌                                                                                                       | 60/395 [00:25<02:22,  2.35paper/s]"
     ]
    },
    {
     "name": "stdout",
     "output_type": "stream",
     "text": [
      "Saved degraded: degraded_pdfs_2/degraded_paper_10.pdf\n",
      "Processing: original_pdfs/paper_100.pdf\n"
     ]
    },
    {
     "name": "stderr",
     "output_type": "stream",
     "text": [
      "Processing Papers:  15%|██████████████████▊                                                                                                       | 61/395 [00:25<02:09,  2.58paper/s]"
     ]
    },
    {
     "name": "stdout",
     "output_type": "stream",
     "text": [
      "Saved degraded: degraded_pdfs_2/degraded_paper_100.pdf\n",
      "Processing: original_pdfs/paper_262.pdf\n"
     ]
    },
    {
     "name": "stderr",
     "output_type": "stream",
     "text": [
      "Processing Papers:  16%|███████████████████▍                                                                                                      | 63/395 [00:26<01:47,  3.10paper/s]"
     ]
    },
    {
     "name": "stdout",
     "output_type": "stream",
     "text": [
      "Saved degraded: degraded_pdfs_2/degraded_paper_262.pdf\n",
      "Processing: original_pdfs/paper_276.pdf\n",
      "Saved degraded: degraded_pdfs_2/degraded_paper_276.pdf\n",
      "Processing: original_pdfs/paper_289.pdf\n"
     ]
    },
    {
     "name": "stderr",
     "output_type": "stream",
     "text": [
      "Processing Papers:  16%|███████████████████▊                                                                                                      | 64/395 [00:26<01:52,  2.93paper/s]"
     ]
    },
    {
     "name": "stdout",
     "output_type": "stream",
     "text": [
      "Saved degraded: degraded_pdfs_2/degraded_paper_289.pdf\n",
      "Processing: original_pdfs/paper_288.pdf\n"
     ]
    },
    {
     "name": "stderr",
     "output_type": "stream",
     "text": [
      "Processing Papers:  16%|████████████████████                                                                                                      | 65/395 [00:26<01:55,  2.85paper/s]"
     ]
    },
    {
     "name": "stdout",
     "output_type": "stream",
     "text": [
      "Saved degraded: degraded_pdfs_2/degraded_paper_288.pdf\n",
      "Processing: original_pdfs/paper_277.pdf\n"
     ]
    },
    {
     "name": "stderr",
     "output_type": "stream",
     "text": [
      "Processing Papers:  17%|████████████████████▍                                                                                                     | 66/395 [00:27<01:52,  2.92paper/s]"
     ]
    },
    {
     "name": "stdout",
     "output_type": "stream",
     "text": [
      "Saved degraded: degraded_pdfs_2/degraded_paper_277.pdf\n",
      "Processing: original_pdfs/paper_101.pdf\n"
     ]
    },
    {
     "name": "stderr",
     "output_type": "stream",
     "text": [
      "Processing Papers:  17%|████████████████████▋                                                                                                     | 67/395 [00:27<02:23,  2.28paper/s]"
     ]
    },
    {
     "name": "stdout",
     "output_type": "stream",
     "text": [
      "Saved degraded: degraded_pdfs_2/degraded_paper_101.pdf\n",
      "Processing: original_pdfs/paper_11.pdf\n"
     ]
    },
    {
     "name": "stderr",
     "output_type": "stream",
     "text": [
      "Processing Papers:  17%|█████████████████████                                                                                                     | 68/395 [00:28<02:09,  2.52paper/s]"
     ]
    },
    {
     "name": "stdout",
     "output_type": "stream",
     "text": [
      "Saved degraded: degraded_pdfs_2/degraded_paper_11.pdf\n",
      "Processing: original_pdfs/paper_115.pdf\n"
     ]
    },
    {
     "name": "stderr",
     "output_type": "stream",
     "text": [
      "Processing Papers:  17%|█████████████████████▎                                                                                                    | 69/395 [00:28<02:03,  2.64paper/s]"
     ]
    },
    {
     "name": "stdout",
     "output_type": "stream",
     "text": [
      "Saved degraded: degraded_pdfs_2/degraded_paper_115.pdf\n",
      "Processing: original_pdfs/paper_39.pdf\n"
     ]
    },
    {
     "name": "stderr",
     "output_type": "stream",
     "text": [
      "Processing Papers:  18%|█████████████████████▌                                                                                                    | 70/395 [00:28<01:54,  2.85paper/s]"
     ]
    },
    {
     "name": "stdout",
     "output_type": "stream",
     "text": [
      "Saved degraded: degraded_pdfs_2/degraded_paper_39.pdf\n",
      "Processing: original_pdfs/paper_129.pdf\n"
     ]
    },
    {
     "name": "stderr",
     "output_type": "stream",
     "text": [
      "Processing Papers:  18%|█████████████████████▉                                                                                                    | 71/395 [00:29<01:49,  2.97paper/s]"
     ]
    },
    {
     "name": "stdout",
     "output_type": "stream",
     "text": [
      "Saved degraded: degraded_pdfs_2/degraded_paper_129.pdf\n",
      "Processing: original_pdfs/paper_303.pdf\n"
     ]
    },
    {
     "name": "stderr",
     "output_type": "stream",
     "text": [
      "Processing Papers:  18%|██████████████████████▏                                                                                                   | 72/395 [00:29<02:11,  2.45paper/s]"
     ]
    },
    {
     "name": "stdout",
     "output_type": "stream",
     "text": [
      "Saved degraded: degraded_pdfs_2/degraded_paper_303.pdf\n",
      "Processing: original_pdfs/paper_317.pdf\n"
     ]
    },
    {
     "name": "stderr",
     "output_type": "stream",
     "text": [
      "Processing Papers:  18%|██████████████████████▌                                                                                                   | 73/395 [00:30<02:00,  2.66paper/s]"
     ]
    },
    {
     "name": "stdout",
     "output_type": "stream",
     "text": [
      "Saved degraded: degraded_pdfs_2/degraded_paper_317.pdf\n",
      "Processing: original_pdfs/paper_370.pdf\n"
     ]
    },
    {
     "name": "stderr",
     "output_type": "stream",
     "text": [
      "Processing Papers:  19%|██████████████████████▊                                                                                                   | 74/395 [00:30<02:07,  2.51paper/s]"
     ]
    },
    {
     "name": "stdout",
     "output_type": "stream",
     "text": [
      "Saved degraded: degraded_pdfs_2/degraded_paper_370.pdf\n",
      "Processing: original_pdfs/paper_364.pdf\n"
     ]
    },
    {
     "name": "stderr",
     "output_type": "stream",
     "text": [
      "Processing Papers:  19%|███████████████████████▏                                                                                                  | 75/395 [00:31<02:20,  2.28paper/s]"
     ]
    },
    {
     "name": "stdout",
     "output_type": "stream",
     "text": [
      "Saved degraded: degraded_pdfs_2/degraded_paper_364.pdf\n",
      "Processing: original_pdfs/paper_358.pdf\n"
     ]
    },
    {
     "name": "stderr",
     "output_type": "stream",
     "text": [
      "Processing Papers:  19%|███████████████████████▊                                                                                                  | 77/395 [00:31<01:46,  2.97paper/s]"
     ]
    },
    {
     "name": "stdout",
     "output_type": "stream",
     "text": [
      "Saved degraded: degraded_pdfs_2/degraded_paper_358.pdf\n",
      "Processing: original_pdfs/paper_76.pdf\n",
      "Saved degraded: degraded_pdfs_2/degraded_paper_76.pdf\n",
      "Processing: original_pdfs/paper_172.pdf\n"
     ]
    },
    {
     "name": "stderr",
     "output_type": "stream",
     "text": [
      "Processing Papers:  20%|████████████████████████                                                                                                  | 78/395 [00:31<01:36,  3.28paper/s]"
     ]
    },
    {
     "name": "stdout",
     "output_type": "stream",
     "text": [
      "Saved degraded: degraded_pdfs_2/degraded_paper_172.pdf\n",
      "Processing: original_pdfs/paper_166.pdf\n"
     ]
    },
    {
     "name": "stderr",
     "output_type": "stream",
     "text": [
      "Processing Papers:  20%|████████████████████████▍                                                                                                 | 79/395 [00:32<01:35,  3.31paper/s]"
     ]
    },
    {
     "name": "stdout",
     "output_type": "stream",
     "text": [
      "Saved degraded: degraded_pdfs_2/degraded_paper_166.pdf\n",
      "Processing: original_pdfs/paper_62.pdf\n"
     ]
    },
    {
     "name": "stderr",
     "output_type": "stream",
     "text": [
      "Processing Papers:  21%|█████████████████████████                                                                                                 | 81/395 [00:32<01:22,  3.83paper/s]"
     ]
    },
    {
     "name": "stdout",
     "output_type": "stream",
     "text": [
      "Saved degraded: degraded_pdfs_2/degraded_paper_62.pdf\n",
      "Processing: original_pdfs/paper_89.pdf\n",
      "Saved degraded: degraded_pdfs_2/degraded_paper_89.pdf\n",
      "Processing: original_pdfs/paper_199.pdf\n"
     ]
    },
    {
     "name": "stderr",
     "output_type": "stream",
     "text": [
      "Processing Papers:  21%|█████████████████████████▎                                                                                                | 82/395 [00:33<01:45,  2.97paper/s]"
     ]
    },
    {
     "name": "stdout",
     "output_type": "stream",
     "text": [
      "Saved degraded: degraded_pdfs_2/degraded_paper_199.pdf\n",
      "Processing: original_pdfs/paper_204.pdf\n"
     ]
    },
    {
     "name": "stderr",
     "output_type": "stream",
     "text": [
      "Processing Papers:  21%|█████████████████████████▋                                                                                                | 83/395 [00:33<01:48,  2.88paper/s]"
     ]
    },
    {
     "name": "stdout",
     "output_type": "stream",
     "text": [
      "Saved degraded: degraded_pdfs_2/degraded_paper_204.pdf\n",
      "Processing: original_pdfs/paper_210.pdf\n"
     ]
    },
    {
     "name": "stderr",
     "output_type": "stream",
     "text": [
      "Processing Papers:  21%|█████████████████████████▉                                                                                                | 84/395 [00:33<01:35,  3.27paper/s]"
     ]
    },
    {
     "name": "stdout",
     "output_type": "stream",
     "text": [
      "Saved degraded: degraded_pdfs_2/degraded_paper_210.pdf\n",
      "Processing: original_pdfs/paper_238.pdf\n"
     ]
    },
    {
     "name": "stderr",
     "output_type": "stream",
     "text": [
      "Processing Papers:  22%|██████████████████████████▎                                                                                               | 85/395 [00:34<01:45,  2.93paper/s]"
     ]
    },
    {
     "name": "stdout",
     "output_type": "stream",
     "text": [
      "Saved degraded: degraded_pdfs_2/degraded_paper_238.pdf\n",
      "Processing: original_pdfs/paper_239.pdf\n",
      "Saved degraded: degraded_pdfs_2/degraded_paper_239.pdf\n",
      "Processing: original_pdfs/paper_211.pdf\n"
     ]
    },
    {
     "name": "stderr",
     "output_type": "stream",
     "text": [
      "Processing Papers:  22%|██████████████████████████▊                                                                                               | 87/395 [00:34<01:31,  3.37paper/s]"
     ]
    },
    {
     "name": "stdout",
     "output_type": "stream",
     "text": [
      "Saved degraded: degraded_pdfs_2/degraded_paper_211.pdf\n",
      "Processing: original_pdfs/paper_205.pdf\n"
     ]
    },
    {
     "name": "stderr",
     "output_type": "stream",
     "text": [
      "Processing Papers:  22%|███████████████████████████▏                                                                                              | 88/395 [00:34<01:39,  3.08paper/s]"
     ]
    },
    {
     "name": "stdout",
     "output_type": "stream",
     "text": [
      "Saved degraded: degraded_pdfs_2/degraded_paper_205.pdf\n",
      "Processing: original_pdfs/paper_198.pdf\n"
     ]
    },
    {
     "name": "stderr",
     "output_type": "stream",
     "text": [
      "Processing Papers:  23%|███████████████████████████▍                                                                                              | 89/395 [00:35<02:08,  2.37paper/s]"
     ]
    },
    {
     "name": "stdout",
     "output_type": "stream",
     "text": [
      "Saved degraded: degraded_pdfs_2/degraded_paper_198.pdf\n",
      "Processing: original_pdfs/paper_88.pdf\n"
     ]
    },
    {
     "name": "stderr",
     "output_type": "stream",
     "text": [
      "Processing Papers:  23%|███████████████████████████▊                                                                                              | 90/395 [00:36<02:28,  2.06paper/s]"
     ]
    },
    {
     "name": "stdout",
     "output_type": "stream",
     "text": [
      "Saved degraded: degraded_pdfs_2/degraded_paper_88.pdf\n",
      "Processing: original_pdfs/paper_167.pdf\n"
     ]
    },
    {
     "name": "stderr",
     "output_type": "stream",
     "text": [
      "Processing Papers:  23%|████████████████████████████                                                                                              | 91/395 [00:36<02:20,  2.16paper/s]"
     ]
    },
    {
     "name": "stdout",
     "output_type": "stream",
     "text": [
      "Saved degraded: degraded_pdfs_2/degraded_paper_167.pdf\n",
      "Processing: original_pdfs/paper_63.pdf\n"
     ]
    },
    {
     "name": "stderr",
     "output_type": "stream",
     "text": [
      "Processing Papers:  24%|████████████████████████████▋                                                                                             | 93/395 [00:37<02:00,  2.50paper/s]"
     ]
    },
    {
     "name": "stdout",
     "output_type": "stream",
     "text": [
      "Saved degraded: degraded_pdfs_2/degraded_paper_63.pdf\n",
      "Processing: original_pdfs/paper_77.pdf\n",
      "Saved degraded: degraded_pdfs_2/degraded_paper_77.pdf\n",
      "Processing: original_pdfs/paper_173.pdf\n"
     ]
    },
    {
     "name": "stderr",
     "output_type": "stream",
     "text": [
      "Processing Papers:  24%|█████████████████████████████                                                                                             | 94/395 [00:37<01:40,  2.99paper/s]"
     ]
    },
    {
     "name": "stdout",
     "output_type": "stream",
     "text": [
      "Saved degraded: degraded_pdfs_2/degraded_paper_173.pdf\n",
      "Processing: original_pdfs/paper_359.pdf\n"
     ]
    },
    {
     "name": "stderr",
     "output_type": "stream",
     "text": [
      "Processing Papers:  24%|█████████████████████████████▎                                                                                            | 95/395 [00:37<01:39,  3.00paper/s]"
     ]
    },
    {
     "name": "stdout",
     "output_type": "stream",
     "text": [
      "Saved degraded: degraded_pdfs_2/degraded_paper_359.pdf\n",
      "Processing: original_pdfs/paper_365.pdf\n"
     ]
    },
    {
     "name": "stderr",
     "output_type": "stream",
     "text": [
      "Processing Papers:  24%|█████████████████████████████▋                                                                                            | 96/395 [00:38<01:34,  3.17paper/s]"
     ]
    },
    {
     "name": "stdout",
     "output_type": "stream",
     "text": [
      "Saved degraded: degraded_pdfs_2/degraded_paper_365.pdf\n",
      "Processing: original_pdfs/paper_371.pdf\n"
     ]
    },
    {
     "name": "stderr",
     "output_type": "stream",
     "text": [
      "Processing Papers:  25%|█████████████████████████████▉                                                                                            | 97/395 [00:38<02:09,  2.30paper/s]"
     ]
    },
    {
     "name": "stdout",
     "output_type": "stream",
     "text": [
      "Saved degraded: degraded_pdfs_2/degraded_paper_371.pdf\n",
      "Processing: original_pdfs/paper_367.pdf\n"
     ]
    },
    {
     "name": "stderr",
     "output_type": "stream",
     "text": [
      "Processing Papers:  25%|██████████████████████████████▎                                                                                           | 98/395 [00:39<01:58,  2.51paper/s]"
     ]
    },
    {
     "name": "stdout",
     "output_type": "stream",
     "text": [
      "Saved degraded: degraded_pdfs_2/degraded_paper_367.pdf\n",
      "Processing: original_pdfs/paper_373.pdf\n"
     ]
    },
    {
     "name": "stderr",
     "output_type": "stream",
     "text": [
      "Processing Papers:  25%|██████████████████████████████▌                                                                                           | 99/395 [00:39<01:56,  2.55paper/s]"
     ]
    },
    {
     "name": "stdout",
     "output_type": "stream",
     "text": [
      "Saved degraded: degraded_pdfs_2/degraded_paper_373.pdf\n",
      "Processing: original_pdfs/paper_398.pdf\n"
     ]
    },
    {
     "name": "stderr",
     "output_type": "stream",
     "text": [
      "Processing Papers:  25%|██████████████████████████████▋                                                                                          | 100/395 [00:39<01:39,  2.96paper/s]"
     ]
    },
    {
     "name": "stdout",
     "output_type": "stream",
     "text": [
      "Saved degraded: degraded_pdfs_2/degraded_paper_398.pdf\n",
      "Processing: original_pdfs/paper_61.pdf\n"
     ]
    },
    {
     "name": "stderr",
     "output_type": "stream",
     "text": [
      "Processing Papers:  26%|██████████████████████████████▉                                                                                          | 101/395 [00:40<01:30,  3.24paper/s]"
     ]
    },
    {
     "name": "stdout",
     "output_type": "stream",
     "text": [
      "Saved degraded: degraded_pdfs_2/degraded_paper_61.pdf\n",
      "Processing: original_pdfs/paper_165.pdf\n"
     ]
    },
    {
     "name": "stderr",
     "output_type": "stream",
     "text": [
      "Processing Papers:  26%|███████████████████████████████▏                                                                                         | 102/395 [00:40<01:25,  3.44paper/s]"
     ]
    },
    {
     "name": "stdout",
     "output_type": "stream",
     "text": [
      "Saved degraded: degraded_pdfs_2/degraded_paper_165.pdf\n",
      "Processing: original_pdfs/paper_171.pdf\n"
     ]
    },
    {
     "name": "stderr",
     "output_type": "stream",
     "text": [
      "Processing Papers:  26%|███████████████████████████████▌                                                                                         | 103/395 [00:41<02:00,  2.42paper/s]"
     ]
    },
    {
     "name": "stdout",
     "output_type": "stream",
     "text": [
      "Saved degraded: degraded_pdfs_2/degraded_paper_171.pdf\n",
      "Processing: original_pdfs/paper_75.pdf\n"
     ]
    },
    {
     "name": "stderr",
     "output_type": "stream",
     "text": [
      "Processing Papers:  26%|███████████████████████████████▊                                                                                         | 104/395 [00:41<01:58,  2.46paper/s]"
     ]
    },
    {
     "name": "stdout",
     "output_type": "stream",
     "text": [
      "Saved degraded: degraded_pdfs_2/degraded_paper_75.pdf\n",
      "Processing: original_pdfs/paper_159.pdf\n"
     ]
    },
    {
     "name": "stderr",
     "output_type": "stream",
     "text": [
      "Processing Papers:  27%|████████████████████████████████▏                                                                                        | 105/395 [00:41<01:44,  2.78paper/s]"
     ]
    },
    {
     "name": "stdout",
     "output_type": "stream",
     "text": [
      "Saved degraded: degraded_pdfs_2/degraded_paper_159.pdf\n",
      "Processing: original_pdfs/paper_49.pdf\n"
     ]
    },
    {
     "name": "stderr",
     "output_type": "stream",
     "text": [
      "Processing Papers:  27%|████████████████████████████████▍                                                                                        | 106/395 [00:42<01:55,  2.50paper/s]"
     ]
    },
    {
     "name": "stdout",
     "output_type": "stream",
     "text": [
      "Saved degraded: degraded_pdfs_2/degraded_paper_49.pdf\n",
      "Processing: original_pdfs/paper_213.pdf\n"
     ]
    },
    {
     "name": "stderr",
     "output_type": "stream",
     "text": [
      "Processing Papers:  27%|████████████████████████████████▊                                                                                        | 107/395 [00:42<02:03,  2.34paper/s]"
     ]
    },
    {
     "name": "stdout",
     "output_type": "stream",
     "text": [
      "Saved degraded: degraded_pdfs_2/degraded_paper_213.pdf\n",
      "Processing: original_pdfs/paper_207.pdf\n"
     ]
    },
    {
     "name": "stderr",
     "output_type": "stream",
     "text": [
      "Processing Papers:  27%|█████████████████████████████████                                                                                        | 108/395 [00:42<01:48,  2.66paper/s]"
     ]
    },
    {
     "name": "stdout",
     "output_type": "stream",
     "text": [
      "Saved degraded: degraded_pdfs_2/degraded_paper_207.pdf\n",
      "Processing: original_pdfs/paper_206.pdf\n"
     ]
    },
    {
     "name": "stderr",
     "output_type": "stream",
     "text": [
      "Processing Papers:  28%|█████████████████████████████████▍                                                                                       | 109/395 [00:43<01:33,  3.05paper/s]"
     ]
    },
    {
     "name": "stdout",
     "output_type": "stream",
     "text": [
      "Saved degraded: degraded_pdfs_2/degraded_paper_206.pdf\n",
      "Processing: original_pdfs/paper_212.pdf\n"
     ]
    },
    {
     "name": "stderr",
     "output_type": "stream",
     "text": [
      "Processing Papers:  28%|█████████████████████████████████▋                                                                                       | 110/395 [00:43<01:31,  3.10paper/s]"
     ]
    },
    {
     "name": "stdout",
     "output_type": "stream",
     "text": [
      "Saved degraded: degraded_pdfs_2/degraded_paper_212.pdf\n",
      "Processing: original_pdfs/paper_48.pdf\n"
     ]
    },
    {
     "name": "stderr",
     "output_type": "stream",
     "text": [
      "Processing Papers:  28%|██████████████████████████████████                                                                                       | 111/395 [00:44<01:55,  2.46paper/s]"
     ]
    },
    {
     "name": "stdout",
     "output_type": "stream",
     "text": [
      "Saved degraded: degraded_pdfs_2/degraded_paper_48.pdf\n",
      "Processing: original_pdfs/paper_158.pdf\n"
     ]
    },
    {
     "name": "stderr",
     "output_type": "stream",
     "text": [
      "Processing Papers:  28%|██████████████████████████████████▎                                                                                      | 112/395 [00:44<01:45,  2.69paper/s]"
     ]
    },
    {
     "name": "stdout",
     "output_type": "stream",
     "text": [
      "Saved degraded: degraded_pdfs_2/degraded_paper_158.pdf\n",
      "Processing: original_pdfs/paper_170.pdf\n"
     ]
    },
    {
     "name": "stderr",
     "output_type": "stream",
     "text": [
      "Processing Papers:  29%|██████████████████████████████████▌                                                                                      | 113/395 [00:44<01:56,  2.42paper/s]"
     ]
    },
    {
     "name": "stdout",
     "output_type": "stream",
     "text": [
      "Saved degraded: degraded_pdfs_2/degraded_paper_170.pdf\n",
      "Processing: original_pdfs/paper_74.pdf\n"
     ]
    },
    {
     "name": "stderr",
     "output_type": "stream",
     "text": [
      "Processing Papers:  29%|██████████████████████████████████▉                                                                                      | 114/395 [00:45<01:59,  2.35paper/s]"
     ]
    },
    {
     "name": "stdout",
     "output_type": "stream",
     "text": [
      "Saved degraded: degraded_pdfs_2/degraded_paper_74.pdf\n",
      "Processing: original_pdfs/paper_60.pdf\n"
     ]
    },
    {
     "name": "stderr",
     "output_type": "stream",
     "text": [
      "Processing Papers:  29%|███████████████████████████████████▏                                                                                     | 115/395 [00:45<01:46,  2.62paper/s]"
     ]
    },
    {
     "name": "stdout",
     "output_type": "stream",
     "text": [
      "Saved degraded: degraded_pdfs_2/degraded_paper_60.pdf\n",
      "Processing: original_pdfs/paper_164.pdf\n"
     ]
    },
    {
     "name": "stderr",
     "output_type": "stream",
     "text": [
      "Processing Papers:  29%|███████████████████████████████████▌                                                                                     | 116/395 [00:45<01:47,  2.60paper/s]"
     ]
    },
    {
     "name": "stdout",
     "output_type": "stream",
     "text": [
      "Saved degraded: degraded_pdfs_2/degraded_paper_164.pdf\n",
      "Processing: original_pdfs/paper_399.pdf\n"
     ]
    },
    {
     "name": "stderr",
     "output_type": "stream",
     "text": [
      "Processing Papers:  30%|███████████████████████████████████▊                                                                                     | 117/395 [00:46<01:53,  2.44paper/s]"
     ]
    },
    {
     "name": "stdout",
     "output_type": "stream",
     "text": [
      "Saved degraded: degraded_pdfs_2/degraded_paper_399.pdf\n",
      "Processing: original_pdfs/paper_372.pdf\n"
     ]
    },
    {
     "name": "stderr",
     "output_type": "stream",
     "text": [
      "Processing Papers:  30%|████████████████████████████████████▍                                                                                    | 119/395 [00:46<01:25,  3.23paper/s]"
     ]
    },
    {
     "name": "stdout",
     "output_type": "stream",
     "text": [
      "Saved degraded: degraded_pdfs_2/degraded_paper_372.pdf\n",
      "Processing: original_pdfs/paper_366.pdf\n",
      "Saved degraded: degraded_pdfs_2/degraded_paper_366.pdf\n",
      "Processing: original_pdfs/paper_400.pdf\n"
     ]
    },
    {
     "name": "stderr",
     "output_type": "stream",
     "text": [
      "Processing Papers:  30%|████████████████████████████████████▊                                                                                    | 120/395 [00:47<01:23,  3.28paper/s]"
     ]
    },
    {
     "name": "stdout",
     "output_type": "stream",
     "text": [
      "Saved degraded: degraded_pdfs_2/degraded_paper_400.pdf\n",
      "Processing: original_pdfs/paper_362.pdf\n"
     ]
    },
    {
     "name": "stderr",
     "output_type": "stream",
     "text": [
      "Processing Papers:  31%|█████████████████████████████████████                                                                                    | 121/395 [00:47<01:24,  3.24paper/s]"
     ]
    },
    {
     "name": "stdout",
     "output_type": "stream",
     "text": [
      "Saved degraded: degraded_pdfs_2/degraded_paper_362.pdf\n",
      "Processing: original_pdfs/paper_376.pdf\n"
     ]
    },
    {
     "name": "stderr",
     "output_type": "stream",
     "text": [
      "Processing Papers:  31%|█████████████████████████████████████▎                                                                                   | 122/395 [00:47<01:23,  3.25paper/s]"
     ]
    },
    {
     "name": "stdout",
     "output_type": "stream",
     "text": [
      "Saved degraded: degraded_pdfs_2/degraded_paper_376.pdf\n",
      "Processing: original_pdfs/paper_389.pdf\n"
     ]
    },
    {
     "name": "stderr",
     "output_type": "stream",
     "text": [
      "Processing Papers:  31%|█████████████████████████████████████▋                                                                                   | 123/395 [00:48<01:36,  2.83paper/s]"
     ]
    },
    {
     "name": "stdout",
     "output_type": "stream",
     "text": [
      "Saved degraded: degraded_pdfs_2/degraded_paper_389.pdf\n",
      "Processing: original_pdfs/paper_58.pdf\n"
     ]
    },
    {
     "name": "stderr",
     "output_type": "stream",
     "text": [
      "Processing Papers:  31%|█████████████████████████████████████▉                                                                                   | 124/395 [00:49<02:16,  1.99paper/s]"
     ]
    },
    {
     "name": "stdout",
     "output_type": "stream",
     "text": [
      "Saved degraded: degraded_pdfs_2/degraded_paper_58.pdf\n",
      "Processing: original_pdfs/paper_148.pdf\n"
     ]
    },
    {
     "name": "stderr",
     "output_type": "stream",
     "text": [
      "Processing Papers:  32%|██████████████████████████████████████▎                                                                                  | 125/395 [00:49<02:03,  2.19paper/s]"
     ]
    },
    {
     "name": "stdout",
     "output_type": "stream",
     "text": [
      "Saved degraded: degraded_pdfs_2/degraded_paper_148.pdf\n",
      "Processing: original_pdfs/paper_160.pdf\n"
     ]
    },
    {
     "name": "stderr",
     "output_type": "stream",
     "text": [
      "Processing Papers:  32%|██████████████████████████████████████▌                                                                                  | 126/395 [00:49<01:48,  2.48paper/s]"
     ]
    },
    {
     "name": "stdout",
     "output_type": "stream",
     "text": [
      "Saved degraded: degraded_pdfs_2/degraded_paper_160.pdf\n",
      "Processing: original_pdfs/paper_64.pdf\n"
     ]
    },
    {
     "name": "stderr",
     "output_type": "stream",
     "text": [
      "Processing Papers:  32%|██████████████████████████████████████▉                                                                                  | 127/395 [00:50<01:53,  2.36paper/s]"
     ]
    },
    {
     "name": "stdout",
     "output_type": "stream",
     "text": [
      "Saved degraded: degraded_pdfs_2/degraded_paper_64.pdf\n",
      "Processing: original_pdfs/paper_70.pdf\n"
     ]
    },
    {
     "name": "stderr",
     "output_type": "stream",
     "text": [
      "Processing Papers:  32%|███████████████████████████████████████▏                                                                                 | 128/395 [00:50<01:47,  2.49paper/s]"
     ]
    },
    {
     "name": "stdout",
     "output_type": "stream",
     "text": [
      "Saved degraded: degraded_pdfs_2/degraded_paper_70.pdf\n",
      "Processing: original_pdfs/paper_174.pdf\n"
     ]
    },
    {
     "name": "stderr",
     "output_type": "stream",
     "text": [
      "Processing Papers:  33%|███████████████████████████████████████▌                                                                                 | 129/395 [00:50<01:42,  2.60paper/s]"
     ]
    },
    {
     "name": "stdout",
     "output_type": "stream",
     "text": [
      "Saved degraded: degraded_pdfs_2/degraded_paper_174.pdf\n",
      "Processing: original_pdfs/paper_8.pdf\n"
     ]
    },
    {
     "name": "stderr",
     "output_type": "stream",
     "text": [
      "Processing Papers:  33%|███████████████████████████████████████▊                                                                                 | 130/395 [00:51<01:57,  2.26paper/s]"
     ]
    },
    {
     "name": "stdout",
     "output_type": "stream",
     "text": [
      "Saved degraded: degraded_pdfs_2/degraded_paper_8.pdf\n",
      "Processing: original_pdfs/paper_216.pdf\n"
     ]
    },
    {
     "name": "stderr",
     "output_type": "stream",
     "text": [
      "Processing Papers:  33%|████████████████████████████████████████▏                                                                                | 131/395 [00:51<01:47,  2.45paper/s]"
     ]
    },
    {
     "name": "stdout",
     "output_type": "stream",
     "text": [
      "Saved degraded: degraded_pdfs_2/degraded_paper_216.pdf\n",
      "Processing: original_pdfs/paper_202.pdf\n"
     ]
    },
    {
     "name": "stderr",
     "output_type": "stream",
     "text": [
      "Processing Papers:  33%|████████████████████████████████████████▍                                                                                | 132/395 [00:52<01:47,  2.46paper/s]"
     ]
    },
    {
     "name": "stdout",
     "output_type": "stream",
     "text": [
      "Saved degraded: degraded_pdfs_2/degraded_paper_202.pdf\n",
      "Processing: original_pdfs/paper_203.pdf\n"
     ]
    },
    {
     "name": "stderr",
     "output_type": "stream",
     "text": [
      "Processing Papers:  34%|████████████████████████████████████████▋                                                                                | 133/395 [00:52<01:35,  2.74paper/s]"
     ]
    },
    {
     "name": "stdout",
     "output_type": "stream",
     "text": [
      "Saved degraded: degraded_pdfs_2/degraded_paper_203.pdf\n",
      "Processing: original_pdfs/paper_217.pdf\n"
     ]
    },
    {
     "name": "stderr",
     "output_type": "stream",
     "text": [
      "Processing Papers:  34%|█████████████████████████████████████████                                                                                | 134/395 [00:52<01:30,  2.89paper/s]"
     ]
    },
    {
     "name": "stdout",
     "output_type": "stream",
     "text": [
      "Saved degraded: degraded_pdfs_2/degraded_paper_217.pdf\n",
      "Processing: original_pdfs/paper_9.pdf\n"
     ]
    },
    {
     "name": "stderr",
     "output_type": "stream",
     "text": [
      "Processing Papers:  34%|█████████████████████████████████████████▋                                                                               | 136/395 [00:53<01:12,  3.57paper/s]"
     ]
    },
    {
     "name": "stdout",
     "output_type": "stream",
     "text": [
      "Saved degraded: degraded_pdfs_2/degraded_paper_9.pdf\n",
      "Processing: original_pdfs/paper_71.pdf\n",
      "Saved degraded: degraded_pdfs_2/degraded_paper_71.pdf\n",
      "Processing: original_pdfs/paper_175.pdf\n"
     ]
    },
    {
     "name": "stderr",
     "output_type": "stream",
     "text": [
      "Processing Papers:  35%|█████████████████████████████████████████▉                                                                               | 137/395 [00:53<01:39,  2.60paper/s]"
     ]
    },
    {
     "name": "stdout",
     "output_type": "stream",
     "text": [
      "Saved degraded: degraded_pdfs_2/degraded_paper_175.pdf\n",
      "Processing: original_pdfs/paper_161.pdf\n"
     ]
    },
    {
     "name": "stderr",
     "output_type": "stream",
     "text": [
      "Processing Papers:  35%|██████████████████████████████████████████▎                                                                              | 138/395 [00:54<02:21,  1.81paper/s]"
     ]
    },
    {
     "name": "stdout",
     "output_type": "stream",
     "text": [
      "Saved degraded: degraded_pdfs_2/degraded_paper_161.pdf\n",
      "Processing: original_pdfs/paper_65.pdf\n"
     ]
    },
    {
     "name": "stderr",
     "output_type": "stream",
     "text": [
      "Processing Papers:  35%|██████████████████████████████████████████▉                                                                              | 140/395 [00:55<01:36,  2.65paper/s]"
     ]
    },
    {
     "name": "stdout",
     "output_type": "stream",
     "text": [
      "Saved degraded: degraded_pdfs_2/degraded_paper_65.pdf\n",
      "Processing: original_pdfs/paper_149.pdf\n",
      "Saved degraded: degraded_pdfs_2/degraded_paper_149.pdf\n",
      "Processing: original_pdfs/paper_59.pdf\n"
     ]
    },
    {
     "name": "stderr",
     "output_type": "stream",
     "text": [
      "Processing Papers:  36%|███████████████████████████████████████████▏                                                                             | 141/395 [00:55<01:37,  2.60paper/s]"
     ]
    },
    {
     "name": "stdout",
     "output_type": "stream",
     "text": [
      "Saved degraded: degraded_pdfs_2/degraded_paper_59.pdf\n",
      "Processing: original_pdfs/paper_388.pdf\n"
     ]
    },
    {
     "name": "stderr",
     "output_type": "stream",
     "text": [
      "Processing Papers:  36%|███████████████████████████████████████████▍                                                                             | 142/395 [00:56<02:37,  1.61paper/s]"
     ]
    },
    {
     "name": "stdout",
     "output_type": "stream",
     "text": [
      "Saved degraded: degraded_pdfs_2/degraded_paper_388.pdf\n",
      "Processing: original_pdfs/paper_377.pdf\n"
     ]
    },
    {
     "name": "stderr",
     "output_type": "stream",
     "text": [
      "Processing Papers:  36%|███████████████████████████████████████████▊                                                                             | 143/395 [00:57<02:21,  1.78paper/s]"
     ]
    },
    {
     "name": "stdout",
     "output_type": "stream",
     "text": [
      "Saved degraded: degraded_pdfs_2/degraded_paper_377.pdf\n",
      "Processing: original_pdfs/paper_363.pdf\n"
     ]
    },
    {
     "name": "stderr",
     "output_type": "stream",
     "text": [
      "Processing Papers:  36%|████████████████████████████████████████████                                                                             | 144/395 [00:57<02:06,  1.98paper/s]"
     ]
    },
    {
     "name": "stdout",
     "output_type": "stream",
     "text": [
      "Saved degraded: degraded_pdfs_2/degraded_paper_363.pdf\n",
      "Processing: original_pdfs/paper_349.pdf\n"
     ]
    },
    {
     "name": "stderr",
     "output_type": "stream",
     "text": [
      "Processing Papers:  37%|████████████████████████████████████████████▍                                                                            | 145/395 [00:58<02:01,  2.06paper/s]"
     ]
    },
    {
     "name": "stdout",
     "output_type": "stream",
     "text": [
      "Saved degraded: degraded_pdfs_2/degraded_paper_349.pdf\n",
      "Processing: original_pdfs/paper_375.pdf\n"
     ]
    },
    {
     "name": "stderr",
     "output_type": "stream",
     "text": [
      "Processing Papers:  37%|████████████████████████████████████████████▋                                                                            | 146/395 [00:58<01:46,  2.33paper/s]"
     ]
    },
    {
     "name": "stdout",
     "output_type": "stream",
     "text": [
      "Saved degraded: degraded_pdfs_2/degraded_paper_375.pdf\n",
      "Processing: original_pdfs/paper_361.pdf\n"
     ]
    },
    {
     "name": "stderr",
     "output_type": "stream",
     "text": [
      "Processing Papers:  37%|█████████████████████████████████████████████                                                                            | 147/395 [00:58<01:33,  2.65paper/s]"
     ]
    },
    {
     "name": "stdout",
     "output_type": "stream",
     "text": [
      "Saved degraded: degraded_pdfs_2/degraded_paper_361.pdf\n",
      "Processing: original_pdfs/paper_177.pdf\n"
     ]
    },
    {
     "name": "stderr",
     "output_type": "stream",
     "text": [
      "Processing Papers:  37%|█████████████████████████████████████████████▎                                                                           | 148/395 [00:59<01:42,  2.40paper/s]"
     ]
    },
    {
     "name": "stdout",
     "output_type": "stream",
     "text": [
      "Saved degraded: degraded_pdfs_2/degraded_paper_177.pdf\n",
      "Processing: original_pdfs/paper_73.pdf\n"
     ]
    },
    {
     "name": "stderr",
     "output_type": "stream",
     "text": [
      "Processing Papers:  38%|█████████████████████████████████████████████▋                                                                           | 149/395 [00:59<01:48,  2.27paper/s]"
     ]
    },
    {
     "name": "stdout",
     "output_type": "stream",
     "text": [
      "Saved degraded: degraded_pdfs_2/degraded_paper_73.pdf\n",
      "Processing: original_pdfs/paper_67.pdf\n"
     ]
    },
    {
     "name": "stderr",
     "output_type": "stream",
     "text": [
      "Processing Papers:  38%|█████████████████████████████████████████████▉                                                                           | 150/395 [00:59<01:32,  2.66paper/s]"
     ]
    },
    {
     "name": "stdout",
     "output_type": "stream",
     "text": [
      "Saved degraded: degraded_pdfs_2/degraded_paper_67.pdf\n",
      "Processing: original_pdfs/paper_163.pdf\n"
     ]
    },
    {
     "name": "stderr",
     "output_type": "stream",
     "text": [
      "Processing Papers:  38%|██████████████████████████████████████████████▎                                                                          | 151/395 [01:00<01:26,  2.81paper/s]"
     ]
    },
    {
     "name": "stdout",
     "output_type": "stream",
     "text": [
      "Saved degraded: degraded_pdfs_2/degraded_paper_163.pdf\n",
      "Processing: original_pdfs/paper_188.pdf\n"
     ]
    },
    {
     "name": "stderr",
     "output_type": "stream",
     "text": [
      "Processing Papers:  38%|██████████████████████████████████████████████▌                                                                          | 152/395 [01:00<01:38,  2.47paper/s]"
     ]
    },
    {
     "name": "stdout",
     "output_type": "stream",
     "text": [
      "Saved degraded: degraded_pdfs_2/degraded_paper_188.pdf\n",
      "Processing: original_pdfs/paper_98.pdf\n"
     ]
    },
    {
     "name": "stderr",
     "output_type": "stream",
     "text": [
      "Processing Papers:  39%|███████████████████████████████████████████████▏                                                                         | 154/395 [01:01<01:14,  3.24paper/s]"
     ]
    },
    {
     "name": "stdout",
     "output_type": "stream",
     "text": [
      "Saved degraded: degraded_pdfs_2/degraded_paper_98.pdf\n",
      "Processing: original_pdfs/paper_229.pdf\n",
      "Saved degraded: degraded_pdfs_2/degraded_paper_229.pdf\n",
      "Processing: original_pdfs/paper_201.pdf\n"
     ]
    },
    {
     "name": "stderr",
     "output_type": "stream",
     "text": [
      "Processing Papers:  39%|███████████████████████████████████████████████▍                                                                         | 155/395 [01:01<01:31,  2.62paper/s]"
     ]
    },
    {
     "name": "stdout",
     "output_type": "stream",
     "text": [
      "Saved degraded: degraded_pdfs_2/degraded_paper_201.pdf\n",
      "Processing: original_pdfs/paper_215.pdf\n"
     ]
    },
    {
     "name": "stderr",
     "output_type": "stream",
     "text": [
      "Processing Papers:  39%|███████████████████████████████████████████████▊                                                                         | 156/395 [01:02<01:37,  2.45paper/s]"
     ]
    },
    {
     "name": "stdout",
     "output_type": "stream",
     "text": [
      "Saved degraded: degraded_pdfs_2/degraded_paper_215.pdf\n",
      "Processing: original_pdfs/paper_214.pdf\n"
     ]
    },
    {
     "name": "stderr",
     "output_type": "stream",
     "text": [
      "Processing Papers:  40%|████████████████████████████████████████████████                                                                         | 157/395 [01:02<01:36,  2.46paper/s]"
     ]
    },
    {
     "name": "stdout",
     "output_type": "stream",
     "text": [
      "Saved degraded: degraded_pdfs_2/degraded_paper_214.pdf\n",
      "Processing: original_pdfs/paper_200.pdf\n"
     ]
    },
    {
     "name": "stderr",
     "output_type": "stream",
     "text": [
      "Processing Papers:  40%|████████████████████████████████████████████████▍                                                                        | 158/395 [01:03<01:34,  2.50paper/s]"
     ]
    },
    {
     "name": "stdout",
     "output_type": "stream",
     "text": [
      "Saved degraded: degraded_pdfs_2/degraded_paper_200.pdf\n",
      "Processing: original_pdfs/paper_228.pdf\n"
     ]
    },
    {
     "name": "stderr",
     "output_type": "stream",
     "text": [
      "Processing Papers:  40%|████████████████████████████████████████████████▋                                                                        | 159/395 [01:03<01:56,  2.03paper/s]"
     ]
    },
    {
     "name": "stdout",
     "output_type": "stream",
     "text": [
      "Saved degraded: degraded_pdfs_2/degraded_paper_228.pdf\n",
      "Processing: original_pdfs/paper_99.pdf\n"
     ]
    },
    {
     "name": "stderr",
     "output_type": "stream",
     "text": [
      "Processing Papers:  41%|█████████████████████████████████████████████████                                                                        | 160/395 [01:03<01:41,  2.32paper/s]"
     ]
    },
    {
     "name": "stdout",
     "output_type": "stream",
     "text": [
      "Saved degraded: degraded_pdfs_2/degraded_paper_99.pdf\n",
      "Processing: original_pdfs/paper_189.pdf\n"
     ]
    },
    {
     "name": "stderr",
     "output_type": "stream",
     "text": [
      "Processing Papers:  41%|█████████████████████████████████████████████████▎                                                                       | 161/395 [01:04<01:34,  2.47paper/s]"
     ]
    },
    {
     "name": "stdout",
     "output_type": "stream",
     "text": [
      "Saved degraded: degraded_pdfs_2/degraded_paper_189.pdf\n",
      "Processing: original_pdfs/paper_66.pdf\n"
     ]
    },
    {
     "name": "stderr",
     "output_type": "stream",
     "text": [
      "Processing Papers:  41%|█████████████████████████████████████████████████▉                                                                       | 163/395 [01:04<01:10,  3.27paper/s]"
     ]
    },
    {
     "name": "stdout",
     "output_type": "stream",
     "text": [
      "Saved degraded: degraded_pdfs_2/degraded_paper_66.pdf\n",
      "Processing: original_pdfs/paper_162.pdf\n",
      "Saved degraded: degraded_pdfs_2/degraded_paper_162.pdf\n",
      "Processing: original_pdfs/paper_176.pdf\n"
     ]
    },
    {
     "name": "stderr",
     "output_type": "stream",
     "text": [
      "Processing Papers:  42%|██████████████████████████████████████████████████▌                                                                      | 165/395 [01:05<01:04,  3.59paper/s]"
     ]
    },
    {
     "name": "stdout",
     "output_type": "stream",
     "text": [
      "Saved degraded: degraded_pdfs_2/degraded_paper_176.pdf\n",
      "Processing: original_pdfs/paper_72.pdf\n",
      "Saved degraded: degraded_pdfs_2/degraded_paper_72.pdf\n",
      "Processing: original_pdfs/paper_360.pdf\n"
     ]
    },
    {
     "name": "stderr",
     "output_type": "stream",
     "text": [
      "Processing Papers:  42%|██████████████████████████████████████████████████▊                                                                      | 166/395 [01:05<01:11,  3.21paper/s]"
     ]
    },
    {
     "name": "stdout",
     "output_type": "stream",
     "text": [
      "Saved degraded: degraded_pdfs_2/degraded_paper_360.pdf\n",
      "Processing: original_pdfs/paper_374.pdf\n"
     ]
    },
    {
     "name": "stderr",
     "output_type": "stream",
     "text": [
      "Processing Papers:  42%|███████████████████████████████████████████████████▏                                                                     | 167/395 [01:05<01:06,  3.41paper/s]"
     ]
    },
    {
     "name": "stdout",
     "output_type": "stream",
     "text": [
      "Saved degraded: degraded_pdfs_2/degraded_paper_374.pdf\n",
      "Processing: original_pdfs/paper_348.pdf\n"
     ]
    },
    {
     "name": "stderr",
     "output_type": "stream",
     "text": [
      "Processing Papers:  43%|███████████████████████████████████████████████████▍                                                                     | 168/395 [01:06<01:02,  3.64paper/s]"
     ]
    },
    {
     "name": "stdout",
     "output_type": "stream",
     "text": [
      "Saved degraded: degraded_pdfs_2/degraded_paper_348.pdf\n",
      "Processing: original_pdfs/paper_351.pdf\n"
     ]
    },
    {
     "name": "stderr",
     "output_type": "stream",
     "text": [
      "Processing Papers:  43%|███████████████████████████████████████████████████▊                                                                     | 169/395 [01:06<01:13,  3.08paper/s]"
     ]
    },
    {
     "name": "stdout",
     "output_type": "stream",
     "text": [
      "Saved degraded: degraded_pdfs_2/degraded_paper_351.pdf\n",
      "Processing: original_pdfs/paper_345.pdf\n"
     ]
    },
    {
     "name": "stderr",
     "output_type": "stream",
     "text": [
      "Processing Papers:  43%|████████████████████████████████████████████████████                                                                     | 170/395 [01:06<01:09,  3.23paper/s]"
     ]
    },
    {
     "name": "stdout",
     "output_type": "stream",
     "text": [
      "Saved degraded: degraded_pdfs_2/degraded_paper_345.pdf\n",
      "Processing: original_pdfs/paper_379.pdf\n"
     ]
    },
    {
     "name": "stderr",
     "output_type": "stream",
     "text": [
      "Processing Papers:  43%|████████████████████████████████████████████████████▍                                                                    | 171/395 [01:07<01:08,  3.25paper/s]"
     ]
    },
    {
     "name": "stdout",
     "output_type": "stream",
     "text": [
      "Saved degraded: degraded_pdfs_2/degraded_paper_379.pdf\n",
      "Processing: original_pdfs/paper_392.pdf\n"
     ]
    },
    {
     "name": "stderr",
     "output_type": "stream",
     "text": [
      "Processing Papers:  44%|████████████████████████████████████████████████████▋                                                                    | 172/395 [01:07<01:06,  3.35paper/s]"
     ]
    },
    {
     "name": "stdout",
     "output_type": "stream",
     "text": [
      "Saved degraded: degraded_pdfs_2/degraded_paper_392.pdf\n",
      "Processing: original_pdfs/paper_386.pdf\n"
     ]
    },
    {
     "name": "stderr",
     "output_type": "stream",
     "text": [
      "Processing Papers:  44%|████████████████████████████████████████████████████▉                                                                    | 173/395 [01:07<01:10,  3.17paper/s]"
     ]
    },
    {
     "name": "stdout",
     "output_type": "stream",
     "text": [
      "Saved degraded: degraded_pdfs_2/degraded_paper_386.pdf\n",
      "Processing: original_pdfs/paper_57.pdf\n"
     ]
    },
    {
     "name": "stderr",
     "output_type": "stream",
     "text": [
      "Processing Papers:  44%|█████████████████████████████████████████████████████▎                                                                   | 174/395 [01:08<01:04,  3.43paper/s]"
     ]
    },
    {
     "name": "stdout",
     "output_type": "stream",
     "text": [
      "Saved degraded: degraded_pdfs_2/degraded_paper_57.pdf\n",
      "Processing: original_pdfs/paper_153.pdf\n"
     ]
    },
    {
     "name": "stderr",
     "output_type": "stream",
     "text": [
      "Processing Papers:  44%|█████████████████████████████████████████████████████▌                                                                   | 175/395 [01:08<01:08,  3.23paper/s]"
     ]
    },
    {
     "name": "stdout",
     "output_type": "stream",
     "text": [
      "Saved degraded: degraded_pdfs_2/degraded_paper_153.pdf\n",
      "Processing: original_pdfs/paper_147.pdf\n"
     ]
    },
    {
     "name": "stderr",
     "output_type": "stream",
     "text": [
      "Processing Papers:  45%|█████████████████████████████████████████████████████▉                                                                   | 176/395 [01:08<01:15,  2.91paper/s]"
     ]
    },
    {
     "name": "stdout",
     "output_type": "stream",
     "text": [
      "Saved degraded: degraded_pdfs_2/degraded_paper_147.pdf\n",
      "Processing: original_pdfs/paper_43.pdf\n"
     ]
    },
    {
     "name": "stderr",
     "output_type": "stream",
     "text": [
      "Processing Papers:  45%|██████████████████████████████████████████████████████▏                                                                  | 177/395 [01:09<01:09,  3.14paper/s]"
     ]
    },
    {
     "name": "stdout",
     "output_type": "stream",
     "text": [
      "Saved degraded: degraded_pdfs_2/degraded_paper_43.pdf\n",
      "Processing: original_pdfs/paper_94.pdf\n"
     ]
    },
    {
     "name": "stderr",
     "output_type": "stream",
     "text": [
      "Processing Papers:  45%|██████████████████████████████████████████████████████▌                                                                  | 178/395 [01:09<01:10,  3.09paper/s]"
     ]
    },
    {
     "name": "stdout",
     "output_type": "stream",
     "text": [
      "Saved degraded: degraded_pdfs_2/degraded_paper_94.pdf\n",
      "Processing: original_pdfs/paper_190.pdf\n"
     ]
    },
    {
     "name": "stderr",
     "output_type": "stream",
     "text": [
      "Processing Papers:  45%|██████████████████████████████████████████████████████▊                                                                  | 179/395 [01:09<01:15,  2.87paper/s]"
     ]
    },
    {
     "name": "stdout",
     "output_type": "stream",
     "text": [
      "Saved degraded: degraded_pdfs_2/degraded_paper_190.pdf\n",
      "Processing: original_pdfs/paper_184.pdf\n"
     ]
    },
    {
     "name": "stderr",
     "output_type": "stream",
     "text": [
      "Processing Papers:  46%|███████████████████████████████████████████████████████▏                                                                 | 180/395 [01:10<01:08,  3.15paper/s]"
     ]
    },
    {
     "name": "stdout",
     "output_type": "stream",
     "text": [
      "Saved degraded: degraded_pdfs_2/degraded_paper_184.pdf\n",
      "Processing: original_pdfs/paper_80.pdf\n"
     ]
    },
    {
     "name": "stderr",
     "output_type": "stream",
     "text": [
      "Processing Papers:  46%|███████████████████████████████████████████████████████▍                                                                 | 181/395 [01:10<01:08,  3.13paper/s]"
     ]
    },
    {
     "name": "stdout",
     "output_type": "stream",
     "text": [
      "Saved degraded: degraded_pdfs_2/degraded_paper_80.pdf\n",
      "Processing: original_pdfs/paper_7.pdf\n"
     ]
    },
    {
     "name": "stderr",
     "output_type": "stream",
     "text": [
      "Processing Papers:  46%|███████████████████████████████████████████████████████▊                                                                 | 182/395 [01:10<01:07,  3.16paper/s]"
     ]
    },
    {
     "name": "stdout",
     "output_type": "stream",
     "text": [
      "Saved degraded: degraded_pdfs_2/degraded_paper_7.pdf\n",
      "Processing: original_pdfs/paper_225.pdf\n"
     ]
    },
    {
     "name": "stderr",
     "output_type": "stream",
     "text": [
      "Processing Papers:  46%|████████████████████████████████████████████████████████                                                                 | 183/395 [01:11<01:09,  3.04paper/s]"
     ]
    },
    {
     "name": "stdout",
     "output_type": "stream",
     "text": [
      "Saved degraded: degraded_pdfs_2/degraded_paper_225.pdf\n",
      "Processing: original_pdfs/paper_231.pdf\n"
     ]
    },
    {
     "name": "stderr",
     "output_type": "stream",
     "text": [
      "Processing Papers:  47%|████████████████████████████████████████████████████████▎                                                                | 184/395 [01:11<01:09,  3.05paper/s]"
     ]
    },
    {
     "name": "stdout",
     "output_type": "stream",
     "text": [
      "Saved degraded: degraded_pdfs_2/degraded_paper_231.pdf\n",
      "Processing: original_pdfs/paper_219.pdf\n"
     ]
    },
    {
     "name": "stderr",
     "output_type": "stream",
     "text": [
      "Processing Papers:  47%|████████████████████████████████████████████████████████▉                                                                | 186/395 [01:12<01:09,  3.00paper/s]"
     ]
    },
    {
     "name": "stdout",
     "output_type": "stream",
     "text": [
      "Saved degraded: degraded_pdfs_2/degraded_paper_219.pdf\n",
      "Processing: original_pdfs/paper_218.pdf\n",
      "Saved degraded: degraded_pdfs_2/degraded_paper_218.pdf\n",
      "Processing: original_pdfs/paper_230.pdf\n"
     ]
    },
    {
     "name": "stderr",
     "output_type": "stream",
     "text": [
      "Processing Papers:  47%|█████████████████████████████████████████████████████████▎                                                               | 187/395 [01:12<01:21,  2.54paper/s]"
     ]
    },
    {
     "name": "stdout",
     "output_type": "stream",
     "text": [
      "Saved degraded: degraded_pdfs_2/degraded_paper_230.pdf\n",
      "Processing: original_pdfs/paper_224.pdf\n"
     ]
    },
    {
     "name": "stderr",
     "output_type": "stream",
     "text": [
      "Processing Papers:  48%|█████████████████████████████████████████████████████████▌                                                               | 188/395 [01:13<01:27,  2.36paper/s]"
     ]
    },
    {
     "name": "stdout",
     "output_type": "stream",
     "text": [
      "Saved degraded: degraded_pdfs_2/degraded_paper_224.pdf\n",
      "Processing: original_pdfs/paper_6.pdf\n"
     ]
    },
    {
     "name": "stderr",
     "output_type": "stream",
     "text": [
      "Processing Papers:  48%|█████████████████████████████████████████████████████████▉                                                               | 189/395 [01:13<01:34,  2.18paper/s]"
     ]
    },
    {
     "name": "stdout",
     "output_type": "stream",
     "text": [
      "Saved degraded: degraded_pdfs_2/degraded_paper_6.pdf\n",
      "Processing: original_pdfs/paper_185.pdf\n"
     ]
    },
    {
     "name": "stderr",
     "output_type": "stream",
     "text": [
      "Processing Papers:  48%|██████████████████████████████████████████████████████████▏                                                              | 190/395 [01:13<01:22,  2.49paper/s]"
     ]
    },
    {
     "name": "stdout",
     "output_type": "stream",
     "text": [
      "Saved degraded: degraded_pdfs_2/degraded_paper_185.pdf\n",
      "Processing: original_pdfs/paper_81.pdf\n"
     ]
    },
    {
     "name": "stderr",
     "output_type": "stream",
     "text": [
      "Processing Papers:  48%|██████████████████████████████████████████████████████████▌                                                              | 191/395 [01:14<01:16,  2.68paper/s]"
     ]
    },
    {
     "name": "stdout",
     "output_type": "stream",
     "text": [
      "Saved degraded: degraded_pdfs_2/degraded_paper_81.pdf\n",
      "Processing: original_pdfs/paper_95.pdf\n"
     ]
    },
    {
     "name": "stderr",
     "output_type": "stream",
     "text": [
      "Processing Papers:  49%|██████████████████████████████████████████████████████████▊                                                              | 192/395 [01:14<01:25,  2.38paper/s]"
     ]
    },
    {
     "name": "stdout",
     "output_type": "stream",
     "text": [
      "Saved degraded: degraded_pdfs_2/degraded_paper_95.pdf\n",
      "Processing: original_pdfs/paper_191.pdf\n"
     ]
    },
    {
     "name": "stderr",
     "output_type": "stream",
     "text": [
      "Processing Papers:  49%|███████████████████████████████████████████████████████████                                                              | 193/395 [01:15<01:35,  2.11paper/s]"
     ]
    },
    {
     "name": "stdout",
     "output_type": "stream",
     "text": [
      "Saved degraded: degraded_pdfs_2/degraded_paper_191.pdf\n",
      "Processing: original_pdfs/paper_146.pdf\n"
     ]
    },
    {
     "name": "stderr",
     "output_type": "stream",
     "text": [
      "Processing Papers:  49%|███████████████████████████████████████████████████████████▍                                                             | 194/395 [01:15<01:28,  2.27paper/s]"
     ]
    },
    {
     "name": "stdout",
     "output_type": "stream",
     "text": [
      "Saved degraded: degraded_pdfs_2/degraded_paper_146.pdf\n",
      "Processing: original_pdfs/paper_42.pdf\n"
     ]
    },
    {
     "name": "stderr",
     "output_type": "stream",
     "text": [
      "Processing Papers:  49%|███████████████████████████████████████████████████████████▋                                                             | 195/395 [01:16<01:35,  2.09paper/s]"
     ]
    },
    {
     "name": "stdout",
     "output_type": "stream",
     "text": [
      "Saved degraded: degraded_pdfs_2/degraded_paper_42.pdf\n",
      "Processing: original_pdfs/paper_56.pdf\n"
     ]
    },
    {
     "name": "stderr",
     "output_type": "stream",
     "text": [
      "Processing Papers:  50%|████████████████████████████████████████████████████████████                                                             | 196/395 [01:16<01:23,  2.38paper/s]"
     ]
    },
    {
     "name": "stdout",
     "output_type": "stream",
     "text": [
      "Saved degraded: degraded_pdfs_2/degraded_paper_56.pdf\n",
      "Processing: original_pdfs/paper_152.pdf\n"
     ]
    },
    {
     "name": "stderr",
     "output_type": "stream",
     "text": [
      "Processing Papers:  50%|████████████████████████████████████████████████████████████▎                                                            | 197/395 [01:16<01:15,  2.61paper/s]"
     ]
    },
    {
     "name": "stdout",
     "output_type": "stream",
     "text": [
      "Saved degraded: degraded_pdfs_2/degraded_paper_152.pdf\n",
      "Processing: original_pdfs/paper_387.pdf\n"
     ]
    },
    {
     "name": "stderr",
     "output_type": "stream",
     "text": [
      "Processing Papers:  50%|████████████████████████████████████████████████████████████▋                                                            | 198/395 [01:17<01:46,  1.84paper/s]"
     ]
    },
    {
     "name": "stdout",
     "output_type": "stream",
     "text": [
      "Saved degraded: degraded_pdfs_2/degraded_paper_387.pdf\n",
      "Processing: original_pdfs/paper_393.pdf\n"
     ]
    },
    {
     "name": "stderr",
     "output_type": "stream",
     "text": [
      "Processing Papers:  50%|████████████████████████████████████████████████████████████▉                                                            | 199/395 [01:18<01:27,  2.24paper/s]"
     ]
    },
    {
     "name": "stdout",
     "output_type": "stream",
     "text": [
      "Saved degraded: degraded_pdfs_2/degraded_paper_393.pdf\n",
      "Processing: original_pdfs/paper_378.pdf\n"
     ]
    },
    {
     "name": "stderr",
     "output_type": "stream",
     "text": [
      "Processing Papers:  51%|█████████████████████████████████████████████████████████████▎                                                           | 200/395 [01:18<01:20,  2.42paper/s]"
     ]
    },
    {
     "name": "stdout",
     "output_type": "stream",
     "text": [
      "Saved degraded: degraded_pdfs_2/degraded_paper_378.pdf\n",
      "Processing: original_pdfs/paper_344.pdf\n"
     ]
    },
    {
     "name": "stderr",
     "output_type": "stream",
     "text": [
      "Processing Papers:  51%|█████████████████████████████████████████████████████████████▉                                                           | 202/395 [01:18<01:02,  3.08paper/s]"
     ]
    },
    {
     "name": "stdout",
     "output_type": "stream",
     "text": [
      "Saved degraded: degraded_pdfs_2/degraded_paper_344.pdf\n",
      "Processing: original_pdfs/paper_350.pdf\n",
      "Saved degraded: degraded_pdfs_2/degraded_paper_350.pdf\n",
      "Processing: original_pdfs/paper_346.pdf\n"
     ]
    },
    {
     "name": "stderr",
     "output_type": "stream",
     "text": [
      "Processing Papers:  51%|██████████████████████████████████████████████████████████████▏                                                          | 203/395 [01:19<01:12,  2.63paper/s]"
     ]
    },
    {
     "name": "stdout",
     "output_type": "stream",
     "text": [
      "Saved degraded: degraded_pdfs_2/degraded_paper_346.pdf\n",
      "Processing: original_pdfs/paper_352.pdf\n"
     ]
    },
    {
     "name": "stderr",
     "output_type": "stream",
     "text": [
      "Processing Papers:  52%|██████████████████████████████████████████████████████████████▍                                                          | 204/395 [01:19<01:16,  2.48paper/s]"
     ]
    },
    {
     "name": "stdout",
     "output_type": "stream",
     "text": [
      "Saved degraded: degraded_pdfs_2/degraded_paper_352.pdf\n",
      "Processing: original_pdfs/paper_385.pdf\n"
     ]
    },
    {
     "name": "stderr",
     "output_type": "stream",
     "text": [
      "Processing Papers:  52%|██████████████████████████████████████████████████████████████▊                                                          | 205/395 [01:20<01:09,  2.72paper/s]"
     ]
    },
    {
     "name": "stdout",
     "output_type": "stream",
     "text": [
      "Saved degraded: degraded_pdfs_2/degraded_paper_385.pdf\n",
      "Processing: original_pdfs/paper_391.pdf\n"
     ]
    },
    {
     "name": "stderr",
     "output_type": "stream",
     "text": [
      "Processing Papers:  52%|███████████████████████████████████████████████████████████████                                                          | 206/395 [01:20<01:17,  2.44paper/s]"
     ]
    },
    {
     "name": "stdout",
     "output_type": "stream",
     "text": [
      "Saved degraded: degraded_pdfs_2/degraded_paper_391.pdf\n",
      "Processing: original_pdfs/paper_40.pdf\n"
     ]
    },
    {
     "name": "stderr",
     "output_type": "stream",
     "text": [
      "Processing Papers:  52%|███████████████████████████████████████████████████████████████▍                                                         | 207/395 [01:21<01:15,  2.48paper/s]"
     ]
    },
    {
     "name": "stdout",
     "output_type": "stream",
     "text": [
      "Saved degraded: degraded_pdfs_2/degraded_paper_40.pdf\n",
      "Processing: original_pdfs/paper_144.pdf\n"
     ]
    },
    {
     "name": "stderr",
     "output_type": "stream",
     "text": [
      "Processing Papers:  53%|████████████████████████████████████████████████████████████████                                                         | 209/395 [01:21<00:54,  3.38paper/s]"
     ]
    },
    {
     "name": "stdout",
     "output_type": "stream",
     "text": [
      "Saved degraded: degraded_pdfs_2/degraded_paper_144.pdf\n",
      "Processing: original_pdfs/paper_150.pdf\n",
      "Saved degraded: degraded_pdfs_2/degraded_paper_150.pdf\n",
      "Processing: original_pdfs/paper_54.pdf\n"
     ]
    },
    {
     "name": "stderr",
     "output_type": "stream",
     "text": [
      "Processing Papers:  53%|████████████████████████████████████████████████████████████████▎                                                        | 210/395 [01:22<01:34,  1.95paper/s]"
     ]
    },
    {
     "name": "stdout",
     "output_type": "stream",
     "text": [
      "Saved degraded: degraded_pdfs_2/degraded_paper_54.pdf\n",
      "Processing: original_pdfs/paper_178.pdf\n"
     ]
    },
    {
     "name": "stderr",
     "output_type": "stream",
     "text": [
      "Processing Papers:  53%|████████████████████████████████████████████████████████████████▋                                                        | 211/395 [01:22<01:27,  2.11paper/s]"
     ]
    },
    {
     "name": "stdout",
     "output_type": "stream",
     "text": [
      "Saved degraded: degraded_pdfs_2/degraded_paper_178.pdf\n",
      "Processing: original_pdfs/paper_68.pdf\n"
     ]
    },
    {
     "name": "stderr",
     "output_type": "stream",
     "text": [
      "Processing Papers:  54%|█████████████████████████████████████████████████████████████████▏                                                       | 213/395 [01:23<01:10,  2.57paper/s]"
     ]
    },
    {
     "name": "stdout",
     "output_type": "stream",
     "text": [
      "Saved degraded: degraded_pdfs_2/degraded_paper_68.pdf\n",
      "Processing: original_pdfs/paper_83.pdf\n",
      "Saved degraded: degraded_pdfs_2/degraded_paper_83.pdf\n",
      "Processing: original_pdfs/paper_187.pdf\n"
     ]
    },
    {
     "name": "stderr",
     "output_type": "stream",
     "text": [
      "Processing Papers:  54%|█████████████████████████████████████████████████████████████████▌                                                       | 214/395 [01:23<01:04,  2.79paper/s]"
     ]
    },
    {
     "name": "stdout",
     "output_type": "stream",
     "text": [
      "Saved degraded: degraded_pdfs_2/degraded_paper_187.pdf\n",
      "Processing: original_pdfs/paper_193.pdf\n"
     ]
    },
    {
     "name": "stderr",
     "output_type": "stream",
     "text": [
      "Processing Papers:  55%|██████████████████████████████████████████████████████████████████▏                                                      | 216/395 [01:24<00:53,  3.33paper/s]"
     ]
    },
    {
     "name": "stdout",
     "output_type": "stream",
     "text": [
      "Saved degraded: degraded_pdfs_2/degraded_paper_193.pdf\n",
      "Processing: original_pdfs/paper_97.pdf\n",
      "Saved degraded: degraded_pdfs_2/degraded_paper_97.pdf\n",
      "Processing: original_pdfs/paper_4.pdf\n"
     ]
    },
    {
     "name": "stderr",
     "output_type": "stream",
     "text": [
      "Processing Papers:  55%|██████████████████████████████████████████████████████████████████▍                                                      | 217/395 [01:24<00:50,  3.50paper/s]"
     ]
    },
    {
     "name": "stdout",
     "output_type": "stream",
     "text": [
      "Saved degraded: degraded_pdfs_2/degraded_paper_4.pdf\n",
      "Processing: original_pdfs/paper_232.pdf\n"
     ]
    },
    {
     "name": "stderr",
     "output_type": "stream",
     "text": [
      "Processing Papers:  55%|██████████████████████████████████████████████████████████████████▊                                                      | 218/395 [01:25<01:09,  2.56paper/s]"
     ]
    },
    {
     "name": "stdout",
     "output_type": "stream",
     "text": [
      "Saved degraded: degraded_pdfs_2/degraded_paper_232.pdf\n",
      "Processing: original_pdfs/paper_226.pdf\n"
     ]
    },
    {
     "name": "stderr",
     "output_type": "stream",
     "text": [
      "Processing Papers:  55%|███████████████████████████████████████████████████████████████████                                                      | 219/395 [01:25<01:23,  2.11paper/s]"
     ]
    },
    {
     "name": "stdout",
     "output_type": "stream",
     "text": [
      "Saved degraded: degraded_pdfs_2/degraded_paper_226.pdf\n",
      "Processing: original_pdfs/paper_227.pdf\n"
     ]
    },
    {
     "name": "stderr",
     "output_type": "stream",
     "text": [
      "Processing Papers:  56%|███████████████████████████████████████████████████████████████████▍                                                     | 220/395 [01:26<01:22,  2.11paper/s]"
     ]
    },
    {
     "name": "stdout",
     "output_type": "stream",
     "text": [
      "Saved degraded: degraded_pdfs_2/degraded_paper_227.pdf\n",
      "Processing: original_pdfs/paper_233.pdf\n"
     ]
    },
    {
     "name": "stderr",
     "output_type": "stream",
     "text": [
      "Processing Papers:  56%|███████████████████████████████████████████████████████████████████▋                                                     | 221/395 [01:26<01:27,  1.99paper/s]"
     ]
    },
    {
     "name": "stdout",
     "output_type": "stream",
     "text": [
      "Saved degraded: degraded_pdfs_2/degraded_paper_233.pdf\n",
      "Processing: original_pdfs/paper_5.pdf\n"
     ]
    },
    {
     "name": "stderr",
     "output_type": "stream",
     "text": [
      "Processing Papers:  56%|████████████████████████████████████████████████████████████████████                                                     | 222/395 [01:27<01:13,  2.37paper/s]"
     ]
    },
    {
     "name": "stdout",
     "output_type": "stream",
     "text": [
      "Saved degraded: degraded_pdfs_2/degraded_paper_5.pdf\n",
      "Processing: original_pdfs/paper_192.pdf\n"
     ]
    },
    {
     "name": "stderr",
     "output_type": "stream",
     "text": [
      "Processing Papers:  56%|████████████████████████████████████████████████████████████████████▎                                                    | 223/395 [01:27<01:23,  2.05paper/s]"
     ]
    },
    {
     "name": "stdout",
     "output_type": "stream",
     "text": [
      "Saved degraded: degraded_pdfs_2/degraded_paper_192.pdf\n",
      "Processing: original_pdfs/paper_96.pdf\n"
     ]
    },
    {
     "name": "stderr",
     "output_type": "stream",
     "text": [
      "Processing Papers:  57%|████████████████████████████████████████████████████████████████████▌                                                    | 224/395 [01:28<01:19,  2.16paper/s]"
     ]
    },
    {
     "name": "stdout",
     "output_type": "stream",
     "text": [
      "Saved degraded: degraded_pdfs_2/degraded_paper_96.pdf\n",
      "Processing: original_pdfs/paper_82.pdf\n"
     ]
    },
    {
     "name": "stderr",
     "output_type": "stream",
     "text": [
      "Processing Papers:  57%|████████████████████████████████████████████████████████████████████▉                                                    | 225/395 [01:28<01:08,  2.48paper/s]"
     ]
    },
    {
     "name": "stdout",
     "output_type": "stream",
     "text": [
      "Saved degraded: degraded_pdfs_2/degraded_paper_82.pdf\n",
      "Processing: original_pdfs/paper_186.pdf\n"
     ]
    },
    {
     "name": "stderr",
     "output_type": "stream",
     "text": [
      "Processing Papers:  57%|█████████████████████████████████████████████████████████████████████▏                                                   | 226/395 [01:28<01:02,  2.72paper/s]"
     ]
    },
    {
     "name": "stdout",
     "output_type": "stream",
     "text": [
      "Saved degraded: degraded_pdfs_2/degraded_paper_186.pdf\n",
      "Processing: original_pdfs/paper_69.pdf\n"
     ]
    },
    {
     "name": "stderr",
     "output_type": "stream",
     "text": [
      "Processing Papers:  57%|█████████████████████████████████████████████████████████████████████▌                                                   | 227/395 [01:29<00:58,  2.87paper/s]"
     ]
    },
    {
     "name": "stdout",
     "output_type": "stream",
     "text": [
      "Saved degraded: degraded_pdfs_2/degraded_paper_69.pdf\n",
      "Processing: original_pdfs/paper_179.pdf\n"
     ]
    },
    {
     "name": "stderr",
     "output_type": "stream",
     "text": [
      "Processing Papers:  58%|█████████████████████████████████████████████████████████████████████▊                                                   | 228/395 [01:29<00:54,  3.09paper/s]"
     ]
    },
    {
     "name": "stdout",
     "output_type": "stream",
     "text": [
      "Saved degraded: degraded_pdfs_2/degraded_paper_179.pdf\n",
      "Processing: original_pdfs/paper_151.pdf\n"
     ]
    },
    {
     "name": "stderr",
     "output_type": "stream",
     "text": [
      "Processing Papers:  58%|██████████████████████████████████████████████████████████████████████▏                                                  | 229/395 [01:30<01:12,  2.28paper/s]"
     ]
    },
    {
     "name": "stdout",
     "output_type": "stream",
     "text": [
      "Saved degraded: degraded_pdfs_2/degraded_paper_151.pdf\n",
      "Processing: original_pdfs/paper_55.pdf\n"
     ]
    },
    {
     "name": "stderr",
     "output_type": "stream",
     "text": [
      "Processing Papers:  58%|██████████████████████████████████████████████████████████████████████▍                                                  | 230/395 [01:30<01:06,  2.48paper/s]"
     ]
    },
    {
     "name": "stdout",
     "output_type": "stream",
     "text": [
      "Saved degraded: degraded_pdfs_2/degraded_paper_55.pdf\n",
      "Processing: original_pdfs/paper_41.pdf\n"
     ]
    },
    {
     "name": "stderr",
     "output_type": "stream",
     "text": [
      "Processing Papers:  58%|██████████████████████████████████████████████████████████████████████▊                                                  | 231/395 [01:30<01:02,  2.63paper/s]"
     ]
    },
    {
     "name": "stdout",
     "output_type": "stream",
     "text": [
      "Saved degraded: degraded_pdfs_2/degraded_paper_41.pdf\n",
      "Processing: original_pdfs/paper_145.pdf\n"
     ]
    },
    {
     "name": "stderr",
     "output_type": "stream",
     "text": [
      "Processing Papers:  59%|███████████████████████████████████████████████████████████████████████                                                  | 232/395 [01:31<00:59,  2.73paper/s]"
     ]
    },
    {
     "name": "stdout",
     "output_type": "stream",
     "text": [
      "Saved degraded: degraded_pdfs_2/degraded_paper_145.pdf\n",
      "Processing: original_pdfs/paper_390.pdf\n"
     ]
    },
    {
     "name": "stderr",
     "output_type": "stream",
     "text": [
      "Processing Papers:  59%|███████████████████████████████████████████████████████████████████████▎                                                 | 233/395 [01:31<00:59,  2.71paper/s]"
     ]
    },
    {
     "name": "stdout",
     "output_type": "stream",
     "text": [
      "Saved degraded: degraded_pdfs_2/degraded_paper_390.pdf\n",
      "Processing: original_pdfs/paper_384.pdf\n"
     ]
    },
    {
     "name": "stderr",
     "output_type": "stream",
     "text": [
      "Processing Papers:  59%|███████████████████████████████████████████████████████████████████████▋                                                 | 234/395 [01:31<00:58,  2.75paper/s]"
     ]
    },
    {
     "name": "stdout",
     "output_type": "stream",
     "text": [
      "Saved degraded: degraded_pdfs_2/degraded_paper_384.pdf\n",
      "Processing: original_pdfs/paper_353.pdf\n"
     ]
    },
    {
     "name": "stderr",
     "output_type": "stream",
     "text": [
      "Processing Papers:  59%|███████████████████████████████████████████████████████████████████████▉                                                 | 235/395 [01:32<00:55,  2.88paper/s]"
     ]
    },
    {
     "name": "stdout",
     "output_type": "stream",
     "text": [
      "Saved degraded: degraded_pdfs_2/degraded_paper_353.pdf\n",
      "Processing: original_pdfs/paper_347.pdf\n"
     ]
    },
    {
     "name": "stderr",
     "output_type": "stream",
     "text": [
      "Processing Papers:  60%|████████████████████████████████████████████████████████████████████████▎                                                | 236/395 [01:32<01:01,  2.58paper/s]"
     ]
    },
    {
     "name": "stdout",
     "output_type": "stream",
     "text": [
      "Saved degraded: degraded_pdfs_2/degraded_paper_347.pdf\n",
      "Processing: original_pdfs/paper_343.pdf\n"
     ]
    },
    {
     "name": "stderr",
     "output_type": "stream",
     "text": [
      "Processing Papers:  60%|████████████████████████████████████████████████████████████████████████▌                                                | 237/395 [01:33<01:03,  2.48paper/s]"
     ]
    },
    {
     "name": "stdout",
     "output_type": "stream",
     "text": [
      "Saved degraded: degraded_pdfs_2/degraded_paper_343.pdf\n",
      "Processing: original_pdfs/paper_357.pdf\n"
     ]
    },
    {
     "name": "stderr",
     "output_type": "stream",
     "text": [
      "Processing Papers:  60%|████████████████████████████████████████████████████████████████████████▉                                                | 238/395 [01:33<01:01,  2.57paper/s]"
     ]
    },
    {
     "name": "stdout",
     "output_type": "stream",
     "text": [
      "Saved degraded: degraded_pdfs_2/degraded_paper_357.pdf\n",
      "Processing: original_pdfs/paper_380.pdf\n"
     ]
    },
    {
     "name": "stderr",
     "output_type": "stream",
     "text": [
      "Processing Papers:  61%|█████████████████████████████████████████████████████████████████████████▌                                               | 240/395 [01:33<00:48,  3.23paper/s]"
     ]
    },
    {
     "name": "stdout",
     "output_type": "stream",
     "text": [
      "Saved degraded: degraded_pdfs_2/degraded_paper_380.pdf\n",
      "Processing: original_pdfs/paper_394.pdf\n",
      "Saved degraded: degraded_pdfs_2/degraded_paper_394.pdf\n",
      "Processing: original_pdfs/paper_79.pdf\n"
     ]
    },
    {
     "name": "stderr",
     "output_type": "stream",
     "text": [
      "Processing Papers:  61%|█████████████████████████████████████████████████████████████████████████▊                                               | 241/395 [01:34<00:46,  3.28paper/s]"
     ]
    },
    {
     "name": "stdout",
     "output_type": "stream",
     "text": [
      "Saved degraded: degraded_pdfs_2/degraded_paper_79.pdf\n",
      "Processing: original_pdfs/paper_169.pdf\n"
     ]
    },
    {
     "name": "stderr",
     "output_type": "stream",
     "text": [
      "Processing Papers:  61%|██████████████████████████████████████████████████████████████████████████▏                                              | 242/395 [01:34<00:49,  3.11paper/s]"
     ]
    },
    {
     "name": "stdout",
     "output_type": "stream",
     "text": [
      "Saved degraded: degraded_pdfs_2/degraded_paper_169.pdf\n",
      "Processing: original_pdfs/paper_141.pdf\n"
     ]
    },
    {
     "name": "stderr",
     "output_type": "stream",
     "text": [
      "Processing Papers:  62%|██████████████████████████████████████████████████████████████████████████▍                                              | 243/395 [01:34<00:50,  3.01paper/s]"
     ]
    },
    {
     "name": "stdout",
     "output_type": "stream",
     "text": [
      "Saved degraded: degraded_pdfs_2/degraded_paper_141.pdf\n",
      "Processing: original_pdfs/paper_45.pdf\n"
     ]
    },
    {
     "name": "stderr",
     "output_type": "stream",
     "text": [
      "Processing Papers:  62%|██████████████████████████████████████████████████████████████████████████▋                                              | 244/395 [01:35<00:44,  3.36paper/s]"
     ]
    },
    {
     "name": "stdout",
     "output_type": "stream",
     "text": [
      "Saved degraded: degraded_pdfs_2/degraded_paper_45.pdf\n",
      "Processing: original_pdfs/paper_51.pdf\n"
     ]
    },
    {
     "name": "stderr",
     "output_type": "stream",
     "text": [
      "Processing Papers:  62%|███████████████████████████████████████████████████████████████████████████                                              | 245/395 [01:35<00:42,  3.55paper/s]"
     ]
    },
    {
     "name": "stdout",
     "output_type": "stream",
     "text": [
      "Saved degraded: degraded_pdfs_2/degraded_paper_51.pdf\n",
      "Processing: original_pdfs/paper_155.pdf\n"
     ]
    },
    {
     "name": "stderr",
     "output_type": "stream",
     "text": [
      "Processing Papers:  62%|███████████████████████████████████████████████████████████████████████████▎                                             | 246/395 [01:35<00:40,  3.65paper/s]"
     ]
    },
    {
     "name": "stdout",
     "output_type": "stream",
     "text": [
      "Saved degraded: degraded_pdfs_2/degraded_paper_155.pdf\n",
      "Processing: original_pdfs/paper_182.pdf\n"
     ]
    },
    {
     "name": "stderr",
     "output_type": "stream",
     "text": [
      "Processing Papers:  63%|███████████████████████████████████████████████████████████████████████████▋                                             | 247/395 [01:35<00:43,  3.42paper/s]"
     ]
    },
    {
     "name": "stdout",
     "output_type": "stream",
     "text": [
      "Saved degraded: degraded_pdfs_2/degraded_paper_182.pdf\n",
      "Processing: original_pdfs/paper_86.pdf\n"
     ]
    },
    {
     "name": "stderr",
     "output_type": "stream",
     "text": [
      "Processing Papers:  63%|███████████████████████████████████████████████████████████████████████████▉                                             | 248/395 [01:36<00:56,  2.60paper/s]"
     ]
    },
    {
     "name": "stdout",
     "output_type": "stream",
     "text": [
      "Saved degraded: degraded_pdfs_2/degraded_paper_86.pdf\n",
      "Processing: original_pdfs/paper_92.pdf\n"
     ]
    },
    {
     "name": "stderr",
     "output_type": "stream",
     "text": [
      "Processing Papers:  63%|████████████████████████████████████████████████████████████████████████████▎                                            | 249/395 [01:36<00:51,  2.82paper/s]"
     ]
    },
    {
     "name": "stdout",
     "output_type": "stream",
     "text": [
      "Saved degraded: degraded_pdfs_2/degraded_paper_92.pdf\n",
      "Processing: original_pdfs/paper_196.pdf\n"
     ]
    },
    {
     "name": "stderr",
     "output_type": "stream",
     "text": [
      "Processing Papers:  63%|████████████████████████████████████████████████████████████████████████████▌                                            | 250/395 [01:37<00:58,  2.46paper/s]"
     ]
    },
    {
     "name": "stdout",
     "output_type": "stream",
     "text": [
      "Saved degraded: degraded_pdfs_2/degraded_paper_196.pdf\n",
      "Processing: original_pdfs/paper_1.pdf\n"
     ]
    },
    {
     "name": "stderr",
     "output_type": "stream",
     "text": [
      "Processing Papers:  64%|████████████████████████████████████████████████████████████████████████████▉                                            | 251/395 [01:38<01:33,  1.54paper/s]"
     ]
    },
    {
     "name": "stdout",
     "output_type": "stream",
     "text": [
      "Saved degraded: degraded_pdfs_2/degraded_paper_1.pdf\n",
      "Processing: original_pdfs/paper_237.pdf\n"
     ]
    },
    {
     "name": "stderr",
     "output_type": "stream",
     "text": [
      "Processing Papers:  64%|█████████████████████████████████████████████████████████████████████████████▏                                           | 252/395 [01:39<01:31,  1.56paper/s]"
     ]
    },
    {
     "name": "stdout",
     "output_type": "stream",
     "text": [
      "Saved degraded: degraded_pdfs_2/degraded_paper_237.pdf\n",
      "Processing: original_pdfs/paper_223.pdf\n"
     ]
    },
    {
     "name": "stderr",
     "output_type": "stream",
     "text": [
      "Processing Papers:  64%|█████████████████████████████████████████████████████████████████████████████▌                                           | 253/395 [01:39<01:22,  1.72paper/s]"
     ]
    },
    {
     "name": "stdout",
     "output_type": "stream",
     "text": [
      "Saved degraded: degraded_pdfs_2/degraded_paper_223.pdf\n",
      "Processing: original_pdfs/paper_222.pdf\n"
     ]
    },
    {
     "name": "stderr",
     "output_type": "stream",
     "text": [
      "Processing Papers:  64%|█████████████████████████████████████████████████████████████████████████████▊                                           | 254/395 [01:40<01:17,  1.82paper/s]"
     ]
    },
    {
     "name": "stdout",
     "output_type": "stream",
     "text": [
      "Saved degraded: degraded_pdfs_2/degraded_paper_222.pdf\n",
      "Processing: original_pdfs/paper_236.pdf\n"
     ]
    },
    {
     "name": "stderr",
     "output_type": "stream",
     "text": [
      "Processing Papers:  65%|██████████████████████████████████████████████████████████████████████████████                                           | 255/395 [01:40<01:29,  1.56paper/s]"
     ]
    },
    {
     "name": "stdout",
     "output_type": "stream",
     "text": [
      "Saved degraded: degraded_pdfs_2/degraded_paper_236.pdf\n",
      "Processing: original_pdfs/paper_93.pdf\n"
     ]
    },
    {
     "name": "stderr",
     "output_type": "stream",
     "text": [
      "Processing Papers:  65%|██████████████████████████████████████████████████████████████████████████████▍                                          | 256/395 [01:41<01:13,  1.89paper/s]"
     ]
    },
    {
     "name": "stdout",
     "output_type": "stream",
     "text": [
      "Saved degraded: degraded_pdfs_2/degraded_paper_93.pdf\n",
      "Processing: original_pdfs/paper_197.pdf\n"
     ]
    },
    {
     "name": "stderr",
     "output_type": "stream",
     "text": [
      "Processing Papers:  65%|██████████████████████████████████████████████████████████████████████████████▋                                          | 257/395 [01:41<01:00,  2.30paper/s]"
     ]
    },
    {
     "name": "stdout",
     "output_type": "stream",
     "text": [
      "Saved degraded: degraded_pdfs_2/degraded_paper_197.pdf\n",
      "Processing: original_pdfs/paper_183.pdf\n"
     ]
    },
    {
     "name": "stderr",
     "output_type": "stream",
     "text": [
      "Processing Papers:  65%|███████████████████████████████████████████████████████████████████████████████                                          | 258/395 [01:42<01:04,  2.12paper/s]"
     ]
    },
    {
     "name": "stdout",
     "output_type": "stream",
     "text": [
      "Saved degraded: degraded_pdfs_2/degraded_paper_183.pdf\n",
      "Processing: original_pdfs/paper_87.pdf\n"
     ]
    },
    {
     "name": "stderr",
     "output_type": "stream",
     "text": [
      "Processing Papers:  66%|███████████████████████████████████████████████████████████████████████████████▎                                         | 259/395 [01:42<01:06,  2.04paper/s]"
     ]
    },
    {
     "name": "stdout",
     "output_type": "stream",
     "text": [
      "Saved degraded: degraded_pdfs_2/degraded_paper_87.pdf\n",
      "Processing: original_pdfs/paper_50.pdf\n"
     ]
    },
    {
     "name": "stderr",
     "output_type": "stream",
     "text": [
      "Processing Papers:  66%|███████████████████████████████████████████████████████████████████████████████▋                                         | 260/395 [01:42<01:01,  2.20paper/s]"
     ]
    },
    {
     "name": "stdout",
     "output_type": "stream",
     "text": [
      "Saved degraded: degraded_pdfs_2/degraded_paper_50.pdf\n",
      "Processing: original_pdfs/paper_154.pdf\n"
     ]
    },
    {
     "name": "stderr",
     "output_type": "stream",
     "text": [
      "Processing Papers:  66%|███████████████████████████████████████████████████████████████████████████████▉                                         | 261/395 [01:43<00:56,  2.38paper/s]"
     ]
    },
    {
     "name": "stdout",
     "output_type": "stream",
     "text": [
      "Saved degraded: degraded_pdfs_2/degraded_paper_154.pdf\n",
      "Processing: original_pdfs/paper_140.pdf\n"
     ]
    },
    {
     "name": "stderr",
     "output_type": "stream",
     "text": [
      "Processing Papers:  66%|████████████████████████████████████████████████████████████████████████████████▎                                        | 262/395 [01:43<00:51,  2.61paper/s]"
     ]
    },
    {
     "name": "stdout",
     "output_type": "stream",
     "text": [
      "Saved degraded: degraded_pdfs_2/degraded_paper_140.pdf\n",
      "Processing: original_pdfs/paper_44.pdf\n"
     ]
    },
    {
     "name": "stderr",
     "output_type": "stream",
     "text": [
      "Processing Papers:  67%|████████████████████████████████████████████████████████████████████████████████▌                                        | 263/395 [01:43<00:48,  2.71paper/s]"
     ]
    },
    {
     "name": "stdout",
     "output_type": "stream",
     "text": [
      "Saved degraded: degraded_pdfs_2/degraded_paper_44.pdf\n",
      "Processing: original_pdfs/paper_168.pdf\n"
     ]
    },
    {
     "name": "stderr",
     "output_type": "stream",
     "text": [
      "Processing Papers:  67%|████████████████████████████████████████████████████████████████████████████████▊                                        | 264/395 [01:44<00:48,  2.68paper/s]"
     ]
    },
    {
     "name": "stdout",
     "output_type": "stream",
     "text": [
      "Saved degraded: degraded_pdfs_2/degraded_paper_168.pdf\n",
      "Processing: original_pdfs/paper_78.pdf\n"
     ]
    },
    {
     "name": "stderr",
     "output_type": "stream",
     "text": [
      "Processing Papers:  67%|█████████████████████████████████████████████████████████████████████████████████▏                                       | 265/395 [01:44<00:48,  2.68paper/s]"
     ]
    },
    {
     "name": "stdout",
     "output_type": "stream",
     "text": [
      "Saved degraded: degraded_pdfs_2/degraded_paper_78.pdf\n",
      "Processing: original_pdfs/paper_395.pdf\n"
     ]
    },
    {
     "name": "stderr",
     "output_type": "stream",
     "text": [
      "Processing Papers:  67%|█████████████████████████████████████████████████████████████████████████████████▍                                       | 266/395 [01:44<00:44,  2.90paper/s]"
     ]
    },
    {
     "name": "stdout",
     "output_type": "stream",
     "text": [
      "Saved degraded: degraded_pdfs_2/degraded_paper_395.pdf\n",
      "Processing: original_pdfs/paper_381.pdf\n"
     ]
    },
    {
     "name": "stderr",
     "output_type": "stream",
     "text": [
      "Processing Papers:  68%|█████████████████████████████████████████████████████████████████████████████████▊                                       | 267/395 [01:45<00:42,  3.02paper/s]"
     ]
    },
    {
     "name": "stdout",
     "output_type": "stream",
     "text": [
      "Saved degraded: degraded_pdfs_2/degraded_paper_381.pdf\n",
      "Processing: original_pdfs/paper_356.pdf\n"
     ]
    },
    {
     "name": "stderr",
     "output_type": "stream",
     "text": [
      "Processing Papers:  68%|██████████████████████████████████████████████████████████████████████████████████                                       | 268/395 [01:45<00:45,  2.81paper/s]"
     ]
    },
    {
     "name": "stdout",
     "output_type": "stream",
     "text": [
      "Saved degraded: degraded_pdfs_2/degraded_paper_356.pdf\n",
      "Processing: original_pdfs/paper_342.pdf\n"
     ]
    },
    {
     "name": "stderr",
     "output_type": "stream",
     "text": [
      "Processing Papers:  68%|██████████████████████████████████████████████████████████████████████████████████▍                                      | 269/395 [01:45<00:41,  3.01paper/s]"
     ]
    },
    {
     "name": "stdout",
     "output_type": "stream",
     "text": [
      "Saved degraded: degraded_pdfs_2/degraded_paper_342.pdf\n",
      "Processing: original_pdfs/paper_368.pdf\n"
     ]
    },
    {
     "name": "stderr",
     "output_type": "stream",
     "text": [
      "Processing Papers:  68%|██████████████████████████████████████████████████████████████████████████████████▋                                      | 270/395 [01:46<00:41,  2.98paper/s]"
     ]
    },
    {
     "name": "stdout",
     "output_type": "stream",
     "text": [
      "Saved degraded: degraded_pdfs_2/degraded_paper_368.pdf\n",
      "Processing: original_pdfs/paper_354.pdf\n"
     ]
    },
    {
     "name": "stderr",
     "output_type": "stream",
     "text": [
      "Processing Papers:  69%|███████████████████████████████████████████████████████████████████████████████████▎                                     | 272/395 [01:46<00:33,  3.65paper/s]"
     ]
    },
    {
     "name": "stdout",
     "output_type": "stream",
     "text": [
      "Saved degraded: degraded_pdfs_2/degraded_paper_354.pdf\n",
      "Processing: original_pdfs/paper_340.pdf\n",
      "Saved degraded: degraded_pdfs_2/degraded_paper_340.pdf\n",
      "Processing: original_pdfs/paper_397.pdf\n"
     ]
    },
    {
     "name": "stderr",
     "output_type": "stream",
     "text": [
      "Processing Papers:  69%|███████████████████████████████████████████████████████████████████████████████████▋                                     | 273/395 [01:47<00:37,  3.22paper/s]"
     ]
    },
    {
     "name": "stdout",
     "output_type": "stream",
     "text": [
      "Saved degraded: degraded_pdfs_2/degraded_paper_397.pdf\n",
      "Processing: original_pdfs/paper_383.pdf\n"
     ]
    },
    {
     "name": "stderr",
     "output_type": "stream",
     "text": [
      "Processing Papers:  69%|███████████████████████████████████████████████████████████████████████████████████▉                                     | 274/395 [01:47<00:40,  2.98paper/s]"
     ]
    },
    {
     "name": "stdout",
     "output_type": "stream",
     "text": [
      "Saved degraded: degraded_pdfs_2/degraded_paper_383.pdf\n",
      "Processing: original_pdfs/paper_156.pdf\n"
     ]
    },
    {
     "name": "stderr",
     "output_type": "stream",
     "text": [
      "Processing Papers:  70%|████████████████████████████████████████████████████████████████████████████████████▏                                    | 275/395 [01:47<00:36,  3.25paper/s]"
     ]
    },
    {
     "name": "stdout",
     "output_type": "stream",
     "text": [
      "Saved degraded: degraded_pdfs_2/degraded_paper_156.pdf\n",
      "Processing: original_pdfs/paper_52.pdf\n"
     ]
    },
    {
     "name": "stderr",
     "output_type": "stream",
     "text": [
      "Processing Papers:  70%|████████████████████████████████████████████████████████████████████████████████████▌                                    | 276/395 [01:48<00:37,  3.18paper/s]"
     ]
    },
    {
     "name": "stdout",
     "output_type": "stream",
     "text": [
      "Saved degraded: degraded_pdfs_2/degraded_paper_52.pdf\n",
      "Processing: original_pdfs/paper_46.pdf\n"
     ]
    },
    {
     "name": "stderr",
     "output_type": "stream",
     "text": [
      "Processing Papers:  70%|████████████████████████████████████████████████████████████████████████████████████▊                                    | 277/395 [01:49<01:02,  1.89paper/s]"
     ]
    },
    {
     "name": "stdout",
     "output_type": "stream",
     "text": [
      "Saved degraded: degraded_pdfs_2/degraded_paper_46.pdf\n",
      "Processing: original_pdfs/paper_142.pdf\n"
     ]
    },
    {
     "name": "stderr",
     "output_type": "stream",
     "text": [
      "Processing Papers:  70%|█████████████████████████████████████████████████████████████████████████████████████▏                                   | 278/395 [01:49<00:55,  2.12paper/s]"
     ]
    },
    {
     "name": "stdout",
     "output_type": "stream",
     "text": [
      "Saved degraded: degraded_pdfs_2/degraded_paper_142.pdf\n",
      "Processing: original_pdfs/paper_195.pdf\n"
     ]
    },
    {
     "name": "stderr",
     "output_type": "stream",
     "text": [
      "Processing Papers:  71%|█████████████████████████████████████████████████████████████████████████████████████▍                                   | 279/395 [01:49<00:51,  2.27paper/s]"
     ]
    },
    {
     "name": "stdout",
     "output_type": "stream",
     "text": [
      "Saved degraded: degraded_pdfs_2/degraded_paper_195.pdf\n",
      "Processing: original_pdfs/paper_91.pdf\n"
     ]
    },
    {
     "name": "stderr",
     "output_type": "stream",
     "text": [
      "Processing Papers:  71%|█████████████████████████████████████████████████████████████████████████████████████▊                                   | 280/395 [01:50<00:51,  2.22paper/s]"
     ]
    },
    {
     "name": "stdout",
     "output_type": "stream",
     "text": [
      "Saved degraded: degraded_pdfs_2/degraded_paper_91.pdf\n",
      "Processing: original_pdfs/paper_85.pdf\n"
     ]
    },
    {
     "name": "stderr",
     "output_type": "stream",
     "text": [
      "Processing Papers:  71%|██████████████████████████████████████████████████████████████████████████████████████                                   | 281/395 [01:50<00:46,  2.44paper/s]"
     ]
    },
    {
     "name": "stdout",
     "output_type": "stream",
     "text": [
      "Saved degraded: degraded_pdfs_2/degraded_paper_85.pdf\n",
      "Processing: original_pdfs/paper_181.pdf\n"
     ]
    },
    {
     "name": "stderr",
     "output_type": "stream",
     "text": [
      "Processing Papers:  71%|██████████████████████████████████████████████████████████████████████████████████████▍                                  | 282/395 [01:51<00:47,  2.39paper/s]"
     ]
    },
    {
     "name": "stdout",
     "output_type": "stream",
     "text": [
      "Saved degraded: degraded_pdfs_2/degraded_paper_181.pdf\n",
      "Processing: original_pdfs/paper_2.pdf\n"
     ]
    },
    {
     "name": "stderr",
     "output_type": "stream",
     "text": [
      "Processing Papers:  72%|██████████████████████████████████████████████████████████████████████████████████████▋                                  | 283/395 [01:51<00:40,  2.76paper/s]"
     ]
    },
    {
     "name": "stdout",
     "output_type": "stream",
     "text": [
      "Saved degraded: degraded_pdfs_2/degraded_paper_2.pdf\n",
      "Processing: original_pdfs/paper_208.pdf\n"
     ]
    },
    {
     "name": "stderr",
     "output_type": "stream",
     "text": [
      "Processing Papers:  72%|██████████████████████████████████████████████████████████████████████████████████████▉                                  | 284/395 [01:51<00:44,  2.48paper/s]"
     ]
    },
    {
     "name": "stdout",
     "output_type": "stream",
     "text": [
      "Saved degraded: degraded_pdfs_2/degraded_paper_208.pdf\n",
      "Processing: original_pdfs/paper_220.pdf\n"
     ]
    },
    {
     "name": "stderr",
     "output_type": "stream",
     "text": [
      "Processing Papers:  72%|███████████████████████████████████████████████████████████████████████████████████████▎                                 | 285/395 [01:52<00:42,  2.60paper/s]"
     ]
    },
    {
     "name": "stdout",
     "output_type": "stream",
     "text": [
      "Saved degraded: degraded_pdfs_2/degraded_paper_220.pdf\n",
      "Processing: original_pdfs/paper_234.pdf\n"
     ]
    },
    {
     "name": "stderr",
     "output_type": "stream",
     "text": [
      "Processing Papers:  72%|███████████████████████████████████████████████████████████████████████████████████████▌                                 | 286/395 [01:52<00:36,  2.98paper/s]"
     ]
    },
    {
     "name": "stdout",
     "output_type": "stream",
     "text": [
      "Saved degraded: degraded_pdfs_2/degraded_paper_234.pdf\n",
      "Processing: original_pdfs/paper_235.pdf\n"
     ]
    },
    {
     "name": "stderr",
     "output_type": "stream",
     "text": [
      "Processing Papers:  73%|███████████████████████████████████████████████████████████████████████████████████████▉                                 | 287/395 [01:52<00:35,  3.00paper/s]"
     ]
    },
    {
     "name": "stdout",
     "output_type": "stream",
     "text": [
      "Saved degraded: degraded_pdfs_2/degraded_paper_235.pdf\n",
      "Processing: original_pdfs/paper_209.pdf\n"
     ]
    },
    {
     "name": "stderr",
     "output_type": "stream",
     "text": [
      "Processing Papers:  73%|████████████████████████████████████████████████████████████████████████████████████████▏                                | 288/395 [01:52<00:34,  3.13paper/s]"
     ]
    },
    {
     "name": "stdout",
     "output_type": "stream",
     "text": [
      "Saved degraded: degraded_pdfs_2/degraded_paper_209.pdf\n",
      "Processing: original_pdfs/paper_3.pdf\n"
     ]
    },
    {
     "name": "stderr",
     "output_type": "stream",
     "text": [
      "Processing Papers:  73%|████████████████████████████████████████████████████████████████████████████████████████▌                                | 289/395 [01:53<00:33,  3.20paper/s]"
     ]
    },
    {
     "name": "stdout",
     "output_type": "stream",
     "text": [
      "Saved degraded: degraded_pdfs_2/degraded_paper_3.pdf\n",
      "Processing: original_pdfs/paper_84.pdf\n"
     ]
    },
    {
     "name": "stderr",
     "output_type": "stream",
     "text": [
      "Processing Papers:  73%|████████████████████████████████████████████████████████████████████████████████████████▊                                | 290/395 [01:53<00:30,  3.45paper/s]"
     ]
    },
    {
     "name": "stdout",
     "output_type": "stream",
     "text": [
      "Saved degraded: degraded_pdfs_2/degraded_paper_84.pdf\n",
      "Processing: original_pdfs/paper_180.pdf\n"
     ]
    },
    {
     "name": "stderr",
     "output_type": "stream",
     "text": [
      "Processing Papers:  74%|█████████████████████████████████████████████████████████████████████████████████████████▍                               | 292/395 [01:54<00:28,  3.63paper/s]"
     ]
    },
    {
     "name": "stdout",
     "output_type": "stream",
     "text": [
      "Saved degraded: degraded_pdfs_2/degraded_paper_180.pdf\n",
      "Processing: original_pdfs/paper_194.pdf\n",
      "Saved degraded: degraded_pdfs_2/degraded_paper_194.pdf\n",
      "Processing: original_pdfs/paper_90.pdf\n"
     ]
    },
    {
     "name": "stderr",
     "output_type": "stream",
     "text": [
      "Processing Papers:  74%|█████████████████████████████████████████████████████████████████████████████████████████▊                               | 293/395 [01:55<00:50,  2.00paper/s]"
     ]
    },
    {
     "name": "stdout",
     "output_type": "stream",
     "text": [
      "Saved degraded: degraded_pdfs_2/degraded_paper_90.pdf\n",
      "Processing: original_pdfs/paper_47.pdf\n"
     ]
    },
    {
     "name": "stderr",
     "output_type": "stream",
     "text": [
      "Processing Papers:  74%|██████████████████████████████████████████████████████████████████████████████████████████                               | 294/395 [01:55<00:51,  1.97paper/s]"
     ]
    },
    {
     "name": "stdout",
     "output_type": "stream",
     "text": [
      "Saved degraded: degraded_pdfs_2/degraded_paper_47.pdf\n",
      "Processing: original_pdfs/paper_143.pdf\n"
     ]
    },
    {
     "name": "stderr",
     "output_type": "stream",
     "text": [
      "Processing Papers:  75%|██████████████████████████████████████████████████████████████████████████████████████████▎                              | 295/395 [01:56<00:55,  1.82paper/s]"
     ]
    },
    {
     "name": "stdout",
     "output_type": "stream",
     "text": [
      "Saved degraded: degraded_pdfs_2/degraded_paper_143.pdf\n",
      "Processing: original_pdfs/paper_157.pdf\n"
     ]
    },
    {
     "name": "stderr",
     "output_type": "stream",
     "text": [
      "Processing Papers:  75%|██████████████████████████████████████████████████████████████████████████████████████████▋                              | 296/395 [01:56<00:57,  1.73paper/s]"
     ]
    },
    {
     "name": "stdout",
     "output_type": "stream",
     "text": [
      "Saved degraded: degraded_pdfs_2/degraded_paper_157.pdf\n",
      "Processing: original_pdfs/paper_53.pdf\n"
     ]
    },
    {
     "name": "stderr",
     "output_type": "stream",
     "text": [
      "Processing Papers:  75%|██████████████████████████████████████████████████████████████████████████████████████████▉                              | 297/395 [01:57<00:53,  1.82paper/s]"
     ]
    },
    {
     "name": "stdout",
     "output_type": "stream",
     "text": [
      "Saved degraded: degraded_pdfs_2/degraded_paper_53.pdf\n",
      "Processing: original_pdfs/paper_382.pdf\n"
     ]
    },
    {
     "name": "stderr",
     "output_type": "stream",
     "text": [
      "Processing Papers:  75%|███████████████████████████████████████████████████████████████████████████████████████████▎                             | 298/395 [01:57<00:48,  2.01paper/s]"
     ]
    },
    {
     "name": "stdout",
     "output_type": "stream",
     "text": [
      "Saved degraded: degraded_pdfs_2/degraded_paper_382.pdf\n",
      "Processing: original_pdfs/paper_396.pdf\n"
     ]
    },
    {
     "name": "stderr",
     "output_type": "stream",
     "text": [
      "Processing Papers:  76%|███████████████████████████████████████████████████████████████████████████████████████████▌                             | 299/395 [01:58<00:43,  2.22paper/s]"
     ]
    },
    {
     "name": "stdout",
     "output_type": "stream",
     "text": [
      "Saved degraded: degraded_pdfs_2/degraded_paper_396.pdf\n",
      "Processing: original_pdfs/paper_341.pdf\n"
     ]
    },
    {
     "name": "stderr",
     "output_type": "stream",
     "text": [
      "Processing Papers:  76%|███████████████████████████████████████████████████████████████████████████████████████████▉                             | 300/395 [01:58<00:37,  2.53paper/s]"
     ]
    },
    {
     "name": "stdout",
     "output_type": "stream",
     "text": [
      "Saved degraded: degraded_pdfs_2/degraded_paper_341.pdf\n",
      "Processing: original_pdfs/paper_355.pdf\n"
     ]
    },
    {
     "name": "stderr",
     "output_type": "stream",
     "text": [
      "Processing Papers:  76%|████████████████████████████████████████████████████████████████████████████████████████████▏                            | 301/395 [01:58<00:35,  2.68paper/s]"
     ]
    },
    {
     "name": "stdout",
     "output_type": "stream",
     "text": [
      "Saved degraded: degraded_pdfs_2/degraded_paper_355.pdf\n",
      "Processing: original_pdfs/paper_369.pdf\n"
     ]
    },
    {
     "name": "stderr",
     "output_type": "stream",
     "text": [
      "Processing Papers:  76%|████████████████████████████████████████████████████████████████████████████████████████████▌                            | 302/395 [01:59<00:39,  2.34paper/s]"
     ]
    },
    {
     "name": "stdout",
     "output_type": "stream",
     "text": [
      "Saved degraded: degraded_pdfs_2/degraded_paper_369.pdf\n",
      "Processing: original_pdfs/paper_332.pdf\n"
     ]
    },
    {
     "name": "stderr",
     "output_type": "stream",
     "text": [
      "Processing Papers:  77%|████████████████████████████████████████████████████████████████████████████████████████████▊                            | 303/395 [01:59<00:39,  2.31paper/s]"
     ]
    },
    {
     "name": "stdout",
     "output_type": "stream",
     "text": [
      "Saved degraded: degraded_pdfs_2/degraded_paper_332.pdf\n",
      "Processing: original_pdfs/paper_326.pdf\n"
     ]
    },
    {
     "name": "stderr",
     "output_type": "stream",
     "text": [
      "Processing Papers:  77%|█████████████████████████████████████████████████████████████████████████████████████████████                            | 304/395 [02:00<00:38,  2.39paper/s]"
     ]
    },
    {
     "name": "stdout",
     "output_type": "stream",
     "text": [
      "Saved degraded: degraded_pdfs_2/degraded_paper_326.pdf\n",
      "Processing: original_pdfs/paper_34.pdf\n"
     ]
    },
    {
     "name": "stderr",
     "output_type": "stream",
     "text": [
      "Processing Papers:  77%|█████████████████████████████████████████████████████████████████████████████████████████████▍                           | 305/395 [02:00<00:33,  2.65paper/s]"
     ]
    },
    {
     "name": "stdout",
     "output_type": "stream",
     "text": [
      "Saved degraded: degraded_pdfs_2/degraded_paper_34.pdf\n",
      "Processing: original_pdfs/paper_20.pdf\n"
     ]
    },
    {
     "name": "stderr",
     "output_type": "stream",
     "text": [
      "Processing Papers:  77%|█████████████████████████████████████████████████████████████████████████████████████████████▋                           | 306/395 [02:00<00:33,  2.63paper/s]"
     ]
    },
    {
     "name": "stdout",
     "output_type": "stream",
     "text": [
      "Saved degraded: degraded_pdfs_2/degraded_paper_20.pdf\n",
      "Processing: original_pdfs/paper_124.pdf\n"
     ]
    },
    {
     "name": "stderr",
     "output_type": "stream",
     "text": [
      "Processing Papers:  78%|██████████████████████████████████████████████████████████████████████████████████████████████                           | 307/395 [02:01<00:33,  2.67paper/s]"
     ]
    },
    {
     "name": "stdout",
     "output_type": "stream",
     "text": [
      "Saved degraded: degraded_pdfs_2/degraded_paper_124.pdf\n",
      "Processing: original_pdfs/paper_118.pdf\n"
     ]
    },
    {
     "name": "stderr",
     "output_type": "stream",
     "text": [
      "Processing Papers:  78%|██████████████████████████████████████████████████████████████████████████████████████████████▎                          | 308/395 [02:02<00:51,  1.69paper/s]"
     ]
    },
    {
     "name": "stdout",
     "output_type": "stream",
     "text": [
      "Saved degraded: degraded_pdfs_2/degraded_paper_118.pdf\n",
      "Processing: original_pdfs/paper_246.pdf\n"
     ]
    },
    {
     "name": "stderr",
     "output_type": "stream",
     "text": [
      "Processing Papers:  78%|██████████████████████████████████████████████████████████████████████████████████████████████▋                          | 309/395 [02:02<00:43,  1.96paper/s]"
     ]
    },
    {
     "name": "stdout",
     "output_type": "stream",
     "text": [
      "Saved degraded: degraded_pdfs_2/degraded_paper_246.pdf\n",
      "Processing: original_pdfs/paper_252.pdf\n"
     ]
    },
    {
     "name": "stderr",
     "output_type": "stream",
     "text": [
      "Processing Papers:  78%|██████████████████████████████████████████████████████████████████████████████████████████████▉                          | 310/395 [02:02<00:43,  1.97paper/s]"
     ]
    },
    {
     "name": "stdout",
     "output_type": "stream",
     "text": [
      "Saved degraded: degraded_pdfs_2/degraded_paper_252.pdf\n",
      "Processing: original_pdfs/paper_285.pdf\n"
     ]
    },
    {
     "name": "stderr",
     "output_type": "stream",
     "text": [
      "Processing Papers:  79%|███████████████████████████████████████████████████████████████████████████████████████████████▎                         | 311/395 [02:03<00:36,  2.31paper/s]"
     ]
    },
    {
     "name": "stdout",
     "output_type": "stream",
     "text": [
      "Saved degraded: degraded_pdfs_2/degraded_paper_285.pdf\n",
      "Processing: original_pdfs/paper_291.pdf\n"
     ]
    },
    {
     "name": "stderr",
     "output_type": "stream",
     "text": [
      "Processing Papers:  79%|███████████████████████████████████████████████████████████████████████████████████████████████▌                         | 312/395 [02:03<00:35,  2.32paper/s]"
     ]
    },
    {
     "name": "stdout",
     "output_type": "stream",
     "text": [
      "Saved degraded: degraded_pdfs_2/degraded_paper_291.pdf\n",
      "Processing: original_pdfs/paper_290.pdf\n"
     ]
    },
    {
     "name": "stderr",
     "output_type": "stream",
     "text": [
      "Processing Papers:  79%|███████████████████████████████████████████████████████████████████████████████████████████████▉                         | 313/395 [02:04<00:39,  2.08paper/s]"
     ]
    },
    {
     "name": "stdout",
     "output_type": "stream",
     "text": [
      "Saved degraded: degraded_pdfs_2/degraded_paper_290.pdf\n",
      "Processing: original_pdfs/paper_284.pdf\n"
     ]
    },
    {
     "name": "stderr",
     "output_type": "stream",
     "text": [
      "Processing Papers:  79%|████████████████████████████████████████████████████████████████████████████████████████████████▏                        | 314/395 [02:04<00:37,  2.14paper/s]"
     ]
    },
    {
     "name": "stdout",
     "output_type": "stream",
     "text": [
      "Saved degraded: degraded_pdfs_2/degraded_paper_284.pdf\n",
      "Processing: original_pdfs/paper_253.pdf\n"
     ]
    },
    {
     "name": "stderr",
     "output_type": "stream",
     "text": [
      "Processing Papers:  80%|████████████████████████████████████████████████████████████████████████████████████████████████▍                        | 315/395 [02:05<00:39,  2.03paper/s]"
     ]
    },
    {
     "name": "stdout",
     "output_type": "stream",
     "text": [
      "Saved degraded: degraded_pdfs_2/degraded_paper_253.pdf\n",
      "Processing: original_pdfs/paper_247.pdf\n"
     ]
    },
    {
     "name": "stderr",
     "output_type": "stream",
     "text": [
      "Processing Papers:  80%|████████████████████████████████████████████████████████████████████████████████████████████████▊                        | 316/395 [02:05<00:44,  1.79paper/s]"
     ]
    },
    {
     "name": "stdout",
     "output_type": "stream",
     "text": [
      "Saved degraded: degraded_pdfs_2/degraded_paper_247.pdf\n",
      "Processing: original_pdfs/paper_119.pdf\n"
     ]
    },
    {
     "name": "stderr",
     "output_type": "stream",
     "text": [
      "Processing Papers:  80%|█████████████████████████████████████████████████████████████████████████████████████████████████                        | 317/395 [02:06<00:43,  1.79paper/s]"
     ]
    },
    {
     "name": "stdout",
     "output_type": "stream",
     "text": [
      "Saved degraded: degraded_pdfs_2/degraded_paper_119.pdf\n",
      "Processing: original_pdfs/paper_21.pdf\n"
     ]
    },
    {
     "name": "stderr",
     "output_type": "stream",
     "text": [
      "Processing Papers:  81%|█████████████████████████████████████████████████████████████████████████████████████████████████▋                       | 319/395 [02:06<00:29,  2.58paper/s]"
     ]
    },
    {
     "name": "stdout",
     "output_type": "stream",
     "text": [
      "Saved degraded: degraded_pdfs_2/degraded_paper_21.pdf\n",
      "Processing: original_pdfs/paper_125.pdf\n",
      "Saved degraded: degraded_pdfs_2/degraded_paper_125.pdf\n",
      "Processing: original_pdfs/paper_131.pdf\n"
     ]
    },
    {
     "name": "stderr",
     "output_type": "stream",
     "text": [
      "Processing Papers:  81%|██████████████████████████████████████████████████████████████████████████████████████████████████                       | 320/395 [02:07<00:27,  2.70paper/s]"
     ]
    },
    {
     "name": "stdout",
     "output_type": "stream",
     "text": [
      "Saved degraded: degraded_pdfs_2/degraded_paper_131.pdf\n",
      "Processing: original_pdfs/paper_35.pdf\n"
     ]
    },
    {
     "name": "stderr",
     "output_type": "stream",
     "text": [
      "Processing Papers:  81%|██████████████████████████████████████████████████████████████████████████████████████████████████▎                      | 321/395 [02:07<00:26,  2.77paper/s]"
     ]
    },
    {
     "name": "stdout",
     "output_type": "stream",
     "text": [
      "Saved degraded: degraded_pdfs_2/degraded_paper_35.pdf\n",
      "Processing: original_pdfs/paper_327.pdf\n"
     ]
    },
    {
     "name": "stderr",
     "output_type": "stream",
     "text": [
      "Processing Papers:  82%|██████████████████████████████████████████████████████████████████████████████████████████████████▋                      | 322/395 [02:08<00:30,  2.37paper/s]"
     ]
    },
    {
     "name": "stdout",
     "output_type": "stream",
     "text": [
      "Saved degraded: degraded_pdfs_2/degraded_paper_327.pdf\n",
      "Processing: original_pdfs/paper_333.pdf\n"
     ]
    },
    {
     "name": "stderr",
     "output_type": "stream",
     "text": [
      "Processing Papers:  82%|██████████████████████████████████████████████████████████████████████████████████████████████████▉                      | 323/395 [02:08<00:27,  2.58paper/s]"
     ]
    },
    {
     "name": "stdout",
     "output_type": "stream",
     "text": [
      "Saved degraded: degraded_pdfs_2/degraded_paper_333.pdf\n",
      "Processing: original_pdfs/paper_325.pdf\n"
     ]
    },
    {
     "name": "stderr",
     "output_type": "stream",
     "text": [
      "Processing Papers:  82%|███████████████████████████████████████████████████████████████████████████████████████████████████▎                     | 324/395 [02:08<00:26,  2.64paper/s]"
     ]
    },
    {
     "name": "stdout",
     "output_type": "stream",
     "text": [
      "Saved degraded: degraded_pdfs_2/degraded_paper_325.pdf\n",
      "Processing: original_pdfs/paper_331.pdf\n"
     ]
    },
    {
     "name": "stderr",
     "output_type": "stream",
     "text": [
      "Processing Papers:  82%|███████████████████████████████████████████████████████████████████████████████████████████████████▌                     | 325/395 [02:09<00:28,  2.47paper/s]"
     ]
    },
    {
     "name": "stdout",
     "output_type": "stream",
     "text": [
      "Saved degraded: degraded_pdfs_2/degraded_paper_331.pdf\n",
      "Processing: original_pdfs/paper_319.pdf\n"
     ]
    },
    {
     "name": "stderr",
     "output_type": "stream",
     "text": [
      "Processing Papers:  83%|███████████████████████████████████████████████████████████████████████████████████████████████████▊                     | 326/395 [02:09<00:27,  2.51paper/s]"
     ]
    },
    {
     "name": "stdout",
     "output_type": "stream",
     "text": [
      "Saved degraded: degraded_pdfs_2/degraded_paper_319.pdf\n",
      "Processing: original_pdfs/paper_127.pdf\n"
     ]
    },
    {
     "name": "stderr",
     "output_type": "stream",
     "text": [
      "Processing Papers:  83%|████████████████████████████████████████████████████████████████████████████████████████████████████▏                    | 327/395 [02:10<00:24,  2.77paper/s]"
     ]
    },
    {
     "name": "stdout",
     "output_type": "stream",
     "text": [
      "Saved degraded: degraded_pdfs_2/degraded_paper_127.pdf\n",
      "Processing: original_pdfs/paper_23.pdf\n"
     ]
    },
    {
     "name": "stderr",
     "output_type": "stream",
     "text": [
      "Processing Papers:  83%|████████████████████████████████████████████████████████████████████████████████████████████████████▍                    | 328/395 [02:10<00:22,  3.04paper/s]"
     ]
    },
    {
     "name": "stdout",
     "output_type": "stream",
     "text": [
      "Saved degraded: degraded_pdfs_2/degraded_paper_23.pdf\n",
      "Processing: original_pdfs/paper_37.pdf\n"
     ]
    },
    {
     "name": "stderr",
     "output_type": "stream",
     "text": [
      "Processing Papers:  83%|████████████████████████████████████████████████████████████████████████████████████████████████████▊                    | 329/395 [02:10<00:21,  3.07paper/s]"
     ]
    },
    {
     "name": "stdout",
     "output_type": "stream",
     "text": [
      "Saved degraded: degraded_pdfs_2/degraded_paper_37.pdf\n",
      "Processing: original_pdfs/paper_133.pdf\n"
     ]
    },
    {
     "name": "stderr",
     "output_type": "stream",
     "text": [
      "Processing Papers:  84%|█████████████████████████████████████████████████████████████████████████████████████████████████████                    | 330/395 [02:13<01:19,  1.22s/paper]"
     ]
    },
    {
     "name": "stdout",
     "output_type": "stream",
     "text": [
      "Saved degraded: degraded_pdfs_2/degraded_paper_133.pdf\n",
      "Processing: original_pdfs/paper_251.pdf\n"
     ]
    },
    {
     "name": "stderr",
     "output_type": "stream",
     "text": [
      "Processing Papers:  84%|█████████████████████████████████████████████████████████████████████████████████████████████████████▍                   | 331/395 [02:14<01:06,  1.04s/paper]"
     ]
    },
    {
     "name": "stdout",
     "output_type": "stream",
     "text": [
      "Saved degraded: degraded_pdfs_2/degraded_paper_251.pdf\n",
      "Processing: original_pdfs/paper_245.pdf\n"
     ]
    },
    {
     "name": "stderr",
     "output_type": "stream",
     "text": [
      "Processing Papers:  84%|█████████████████████████████████████████████████████████████████████████████████████████████████████▋                   | 332/395 [02:14<00:51,  1.22paper/s]"
     ]
    },
    {
     "name": "stdout",
     "output_type": "stream",
     "text": [
      "Saved degraded: degraded_pdfs_2/degraded_paper_245.pdf\n",
      "Processing: original_pdfs/paper_279.pdf\n"
     ]
    },
    {
     "name": "stderr",
     "output_type": "stream",
     "text": [
      "Processing Papers:  84%|██████████████████████████████████████████████████████████████████████████████████████████████████████                   | 333/395 [02:15<00:42,  1.45paper/s]"
     ]
    },
    {
     "name": "stdout",
     "output_type": "stream",
     "text": [
      "Saved degraded: degraded_pdfs_2/degraded_paper_279.pdf\n",
      "Processing: original_pdfs/paper_292.pdf\n"
     ]
    },
    {
     "name": "stderr",
     "output_type": "stream",
     "text": [
      "Processing Papers:  85%|██████████████████████████████████████████████████████████████████████████████████████████████████████▎                  | 334/395 [02:15<00:33,  1.82paper/s]"
     ]
    },
    {
     "name": "stdout",
     "output_type": "stream",
     "text": [
      "Saved degraded: degraded_pdfs_2/degraded_paper_292.pdf\n",
      "Processing: original_pdfs/paper_286.pdf\n"
     ]
    },
    {
     "name": "stderr",
     "output_type": "stream",
     "text": [
      "Processing Papers:  85%|██████████████████████████████████████████████████████████████████████████████████████████████████████▌                  | 335/395 [02:15<00:30,  1.98paper/s]"
     ]
    },
    {
     "name": "stdout",
     "output_type": "stream",
     "text": [
      "Saved degraded: degraded_pdfs_2/degraded_paper_286.pdf\n",
      "Processing: original_pdfs/paper_287.pdf\n"
     ]
    },
    {
     "name": "stderr",
     "output_type": "stream",
     "text": [
      "Processing Papers:  85%|██████████████████████████████████████████████████████████████████████████████████████████████████████▉                  | 336/395 [02:16<00:26,  2.20paper/s]"
     ]
    },
    {
     "name": "stdout",
     "output_type": "stream",
     "text": [
      "Saved degraded: degraded_pdfs_2/degraded_paper_287.pdf\n",
      "Processing: original_pdfs/paper_293.pdf\n"
     ]
    },
    {
     "name": "stderr",
     "output_type": "stream",
     "text": [
      "Processing Papers:  85%|███████████████████████████████████████████████████████████████████████████████████████████████████████▏                 | 337/395 [02:16<00:28,  2.07paper/s]"
     ]
    },
    {
     "name": "stdout",
     "output_type": "stream",
     "text": [
      "Saved degraded: degraded_pdfs_2/degraded_paper_293.pdf\n",
      "Processing: original_pdfs/paper_278.pdf\n"
     ]
    },
    {
     "name": "stderr",
     "output_type": "stream",
     "text": [
      "Processing Papers:  86%|███████████████████████████████████████████████████████████████████████████████████████████████████████▊                 | 339/395 [02:17<00:19,  2.87paper/s]"
     ]
    },
    {
     "name": "stdout",
     "output_type": "stream",
     "text": [
      "Saved degraded: degraded_pdfs_2/degraded_paper_278.pdf\n",
      "Processing: original_pdfs/paper_244.pdf\n",
      "Saved degraded: degraded_pdfs_2/degraded_paper_244.pdf\n",
      "Processing: original_pdfs/paper_250.pdf\n"
     ]
    },
    {
     "name": "stderr",
     "output_type": "stream",
     "text": [
      "Processing Papers:  86%|████████████████████████████████████████████████████████████████████████████████████████████████████████▏                | 340/395 [02:17<00:20,  2.71paper/s]"
     ]
    },
    {
     "name": "stdout",
     "output_type": "stream",
     "text": [
      "Saved degraded: degraded_pdfs_2/degraded_paper_250.pdf\n",
      "Processing: original_pdfs/paper_36.pdf\n"
     ]
    },
    {
     "name": "stderr",
     "output_type": "stream",
     "text": [
      "Processing Papers:  86%|████████████████████████████████████████████████████████████████████████████████████████████████████████▍                | 341/395 [02:17<00:20,  2.64paper/s]"
     ]
    },
    {
     "name": "stdout",
     "output_type": "stream",
     "text": [
      "Saved degraded: degraded_pdfs_2/degraded_paper_36.pdf\n",
      "Processing: original_pdfs/paper_132.pdf\n"
     ]
    },
    {
     "name": "stderr",
     "output_type": "stream",
     "text": [
      "Processing Papers:  87%|████████████████████████████████████████████████████████████████████████████████████████████████████████▊                | 342/395 [02:18<00:23,  2.24paper/s]"
     ]
    },
    {
     "name": "stdout",
     "output_type": "stream",
     "text": [
      "Saved degraded: degraded_pdfs_2/degraded_paper_132.pdf\n",
      "Processing: original_pdfs/paper_126.pdf\n"
     ]
    },
    {
     "name": "stderr",
     "output_type": "stream",
     "text": [
      "Processing Papers:  87%|█████████████████████████████████████████████████████████████████████████████████████████████████████████▍               | 344/395 [02:19<00:17,  2.96paper/s]"
     ]
    },
    {
     "name": "stdout",
     "output_type": "stream",
     "text": [
      "Saved degraded: degraded_pdfs_2/degraded_paper_126.pdf\n",
      "Processing: original_pdfs/paper_22.pdf\n",
      "Saved degraded: degraded_pdfs_2/degraded_paper_22.pdf\n",
      "Processing: original_pdfs/paper_318.pdf\n"
     ]
    },
    {
     "name": "stderr",
     "output_type": "stream",
     "text": [
      "Processing Papers:  87%|█████████████████████████████████████████████████████████████████████████████████████████████████████████▋               | 345/395 [02:19<00:18,  2.72paper/s]"
     ]
    },
    {
     "name": "stdout",
     "output_type": "stream",
     "text": [
      "Saved degraded: degraded_pdfs_2/degraded_paper_318.pdf\n",
      "Processing: original_pdfs/paper_330.pdf\n"
     ]
    },
    {
     "name": "stderr",
     "output_type": "stream",
     "text": [
      "Processing Papers:  88%|█████████████████████████████████████████████████████████████████████████████████████████████████████████▉               | 346/395 [02:20<00:21,  2.32paper/s]"
     ]
    },
    {
     "name": "stdout",
     "output_type": "stream",
     "text": [
      "Saved degraded: degraded_pdfs_2/degraded_paper_330.pdf\n",
      "Processing: original_pdfs/paper_324.pdf\n"
     ]
    },
    {
     "name": "stderr",
     "output_type": "stream",
     "text": [
      "Processing Papers:  88%|██████████████████████████████████████████████████████████████████████████████████████████████████████████▎              | 347/395 [02:20<00:19,  2.52paper/s]"
     ]
    },
    {
     "name": "stdout",
     "output_type": "stream",
     "text": [
      "Saved degraded: degraded_pdfs_2/degraded_paper_324.pdf\n",
      "Processing: original_pdfs/paper_308.pdf\n"
     ]
    },
    {
     "name": "stderr",
     "output_type": "stream",
     "text": [
      "Processing Papers:  88%|██████████████████████████████████████████████████████████████████████████████████████████████████████████▌              | 348/395 [02:20<00:16,  2.93paper/s]"
     ]
    },
    {
     "name": "stdout",
     "output_type": "stream",
     "text": [
      "Saved degraded: degraded_pdfs_2/degraded_paper_308.pdf\n",
      "Processing: original_pdfs/paper_320.pdf\n"
     ]
    },
    {
     "name": "stderr",
     "output_type": "stream",
     "text": [
      "Processing Papers:  89%|███████████████████████████████████████████████████████████████████████████████████████████████████████████▏             | 350/395 [02:21<00:14,  3.20paper/s]"
     ]
    },
    {
     "name": "stdout",
     "output_type": "stream",
     "text": [
      "Saved degraded: degraded_pdfs_2/degraded_paper_320.pdf\n",
      "Processing: original_pdfs/paper_334.pdf\n",
      "Saved degraded: degraded_pdfs_2/degraded_paper_334.pdf\n",
      "Processing: original_pdfs/paper_26.pdf\n"
     ]
    },
    {
     "name": "stderr",
     "output_type": "stream",
     "text": [
      "Processing Papers:  89%|███████████████████████████████████████████████████████████████████████████████████████████████████████████▌             | 351/395 [02:21<00:13,  3.27paper/s]"
     ]
    },
    {
     "name": "stdout",
     "output_type": "stream",
     "text": [
      "Saved degraded: degraded_pdfs_2/degraded_paper_26.pdf\n",
      "Processing: original_pdfs/paper_122.pdf\n"
     ]
    },
    {
     "name": "stderr",
     "output_type": "stream",
     "text": [
      "Processing Papers:  89%|███████████████████████████████████████████████████████████████████████████████████████████████████████████▊             | 352/395 [02:21<00:13,  3.20paper/s]"
     ]
    },
    {
     "name": "stdout",
     "output_type": "stream",
     "text": [
      "Saved degraded: degraded_pdfs_2/degraded_paper_122.pdf\n",
      "Processing: original_pdfs/paper_136.pdf\n"
     ]
    },
    {
     "name": "stderr",
     "output_type": "stream",
     "text": [
      "Processing Papers:  89%|████████████████████████████████████████████████████████████████████████████████████████████████████████████▏            | 353/395 [02:22<00:13,  3.16paper/s]"
     ]
    },
    {
     "name": "stdout",
     "output_type": "stream",
     "text": [
      "Saved degraded: degraded_pdfs_2/degraded_paper_136.pdf\n",
      "Processing: original_pdfs/paper_32.pdf\n"
     ]
    },
    {
     "name": "stderr",
     "output_type": "stream",
     "text": [
      "Processing Papers:  90%|████████████████████████████████████████████████████████████████████████████████████████████████████████████▍            | 354/395 [02:22<00:15,  2.68paper/s]"
     ]
    },
    {
     "name": "stdout",
     "output_type": "stream",
     "text": [
      "Saved degraded: degraded_pdfs_2/degraded_paper_32.pdf\n",
      "Processing: original_pdfs/paper_268.pdf\n"
     ]
    },
    {
     "name": "stderr",
     "output_type": "stream",
     "text": [
      "Processing Papers:  90%|████████████████████████████████████████████████████████████████████████████████████████████████████████████▋            | 355/395 [02:23<00:18,  2.22paper/s]"
     ]
    },
    {
     "name": "stdout",
     "output_type": "stream",
     "text": [
      "Saved degraded: degraded_pdfs_2/degraded_paper_268.pdf\n",
      "Processing: original_pdfs/paper_254.pdf\n"
     ]
    },
    {
     "name": "stderr",
     "output_type": "stream",
     "text": [
      "Processing Papers:  90%|█████████████████████████████████████████████████████████████████████████████████████████████████████████████            | 356/395 [02:24<00:20,  1.93paper/s]"
     ]
    },
    {
     "name": "stdout",
     "output_type": "stream",
     "text": [
      "Saved degraded: degraded_pdfs_2/degraded_paper_254.pdf\n",
      "Processing: original_pdfs/paper_240.pdf\n"
     ]
    },
    {
     "name": "stderr",
     "output_type": "stream",
     "text": [
      "Processing Papers:  90%|█████████████████████████████████████████████████████████████████████████████████████████████████████████████▎           | 357/395 [02:24<00:20,  1.88paper/s]"
     ]
    },
    {
     "name": "stdout",
     "output_type": "stream",
     "text": [
      "Saved degraded: degraded_pdfs_2/degraded_paper_240.pdf\n",
      "Processing: original_pdfs/paper_297.pdf\n"
     ]
    },
    {
     "name": "stderr",
     "output_type": "stream",
     "text": [
      "Processing Papers:  91%|█████████████████████████████████████████████████████████████████████████████████████████████████████████████▋           | 358/395 [02:25<00:19,  1.87paper/s]"
     ]
    },
    {
     "name": "stdout",
     "output_type": "stream",
     "text": [
      "Saved degraded: degraded_pdfs_2/degraded_paper_297.pdf\n",
      "Processing: original_pdfs/paper_283.pdf\n"
     ]
    },
    {
     "name": "stderr",
     "output_type": "stream",
     "text": [
      "Processing Papers:  91%|██████████████████████████████████████████████████████████████████████████████████████████████████████████████▎          | 360/395 [02:25<00:15,  2.30paper/s]"
     ]
    },
    {
     "name": "stdout",
     "output_type": "stream",
     "text": [
      "Saved degraded: degraded_pdfs_2/degraded_paper_283.pdf\n",
      "Processing: original_pdfs/paper_282.pdf\n",
      "Saved degraded: degraded_pdfs_2/degraded_paper_282.pdf\n",
      "Processing: original_pdfs/paper_296.pdf\n"
     ]
    },
    {
     "name": "stderr",
     "output_type": "stream",
     "text": [
      "Processing Papers:  91%|██████████████████████████████████████████████████████████████████████████████████████████████████████████████▌          | 361/395 [02:26<00:14,  2.41paper/s]"
     ]
    },
    {
     "name": "stdout",
     "output_type": "stream",
     "text": [
      "Saved degraded: degraded_pdfs_2/degraded_paper_296.pdf\n",
      "Processing: original_pdfs/paper_241.pdf\n"
     ]
    },
    {
     "name": "stderr",
     "output_type": "stream",
     "text": [
      "Processing Papers:  92%|██████████████████████████████████████████████████████████████████████████████████████████████████████████████▉          | 362/395 [02:27<00:18,  1.82paper/s]"
     ]
    },
    {
     "name": "stdout",
     "output_type": "stream",
     "text": [
      "Saved degraded: degraded_pdfs_2/degraded_paper_241.pdf\n",
      "Processing: original_pdfs/paper_255.pdf\n"
     ]
    },
    {
     "name": "stderr",
     "output_type": "stream",
     "text": [
      "Processing Papers:  92%|███████████████████████████████████████████████████████████████████████████████████████████████████████████████▏         | 363/395 [02:27<00:16,  1.98paper/s]"
     ]
    },
    {
     "name": "stdout",
     "output_type": "stream",
     "text": [
      "Saved degraded: degraded_pdfs_2/degraded_paper_255.pdf\n",
      "Processing: original_pdfs/paper_269.pdf\n"
     ]
    },
    {
     "name": "stderr",
     "output_type": "stream",
     "text": [
      "Processing Papers:  92%|███████████████████████████████████████████████████████████████████████████████████████████████████████████████▌         | 364/395 [02:27<00:13,  2.22paper/s]"
     ]
    },
    {
     "name": "stdout",
     "output_type": "stream",
     "text": [
      "Saved degraded: degraded_pdfs_2/degraded_paper_269.pdf\n",
      "Processing: original_pdfs/paper_137.pdf\n"
     ]
    },
    {
     "name": "stderr",
     "output_type": "stream",
     "text": [
      "Processing Papers:  92%|███████████████████████████████████████████████████████████████████████████████████████████████████████████████▊         | 365/395 [02:28<00:11,  2.61paper/s]"
     ]
    },
    {
     "name": "stdout",
     "output_type": "stream",
     "text": [
      "Saved degraded: degraded_pdfs_2/degraded_paper_137.pdf\n",
      "Processing: original_pdfs/paper_33.pdf\n"
     ]
    },
    {
     "name": "stderr",
     "output_type": "stream",
     "text": [
      "Processing Papers:  93%|████████████████████████████████████████████████████████████████████████████████████████████████████████████████         | 366/395 [02:28<00:11,  2.63paper/s]"
     ]
    },
    {
     "name": "stdout",
     "output_type": "stream",
     "text": [
      "Saved degraded: degraded_pdfs_2/degraded_paper_33.pdf\n",
      "Processing: original_pdfs/paper_27.pdf\n"
     ]
    },
    {
     "name": "stderr",
     "output_type": "stream",
     "text": [
      "Processing Papers:  93%|████████████████████████████████████████████████████████████████████████████████████████████████████████████████▍        | 367/395 [02:28<00:09,  3.02paper/s]"
     ]
    },
    {
     "name": "stdout",
     "output_type": "stream",
     "text": [
      "Saved degraded: degraded_pdfs_2/degraded_paper_27.pdf\n",
      "Processing: original_pdfs/paper_123.pdf\n"
     ]
    },
    {
     "name": "stderr",
     "output_type": "stream",
     "text": [
      "Processing Papers:  93%|████████████████████████████████████████████████████████████████████████████████████████████████████████████████▋        | 368/395 [02:29<00:12,  2.17paper/s]"
     ]
    },
    {
     "name": "stdout",
     "output_type": "stream",
     "text": [
      "Saved degraded: degraded_pdfs_2/degraded_paper_123.pdf\n",
      "Processing: original_pdfs/paper_335.pdf\n"
     ]
    },
    {
     "name": "stderr",
     "output_type": "stream",
     "text": [
      "Processing Papers:  93%|█████████████████████████████████████████████████████████████████████████████████████████████████████████████████        | 369/395 [02:29<00:10,  2.37paper/s]"
     ]
    },
    {
     "name": "stdout",
     "output_type": "stream",
     "text": [
      "Saved degraded: degraded_pdfs_2/degraded_paper_335.pdf\n",
      "Processing: original_pdfs/paper_321.pdf\n"
     ]
    },
    {
     "name": "stderr",
     "output_type": "stream",
     "text": [
      "Processing Papers:  94%|█████████████████████████████████████████████████████████████████████████████████████████████████████████████████▎       | 370/395 [02:30<00:09,  2.53paper/s]"
     ]
    },
    {
     "name": "stdout",
     "output_type": "stream",
     "text": [
      "Saved degraded: degraded_pdfs_2/degraded_paper_321.pdf\n",
      "Processing: original_pdfs/paper_309.pdf\n"
     ]
    },
    {
     "name": "stderr",
     "output_type": "stream",
     "text": [
      "Processing Papers:  94%|█████████████████████████████████████████████████████████████████████████████████████████████████████████████████▋       | 371/395 [02:30<00:10,  2.21paper/s]"
     ]
    },
    {
     "name": "stdout",
     "output_type": "stream",
     "text": [
      "Saved degraded: degraded_pdfs_2/degraded_paper_309.pdf\n",
      "Processing: original_pdfs/paper_337.pdf\n"
     ]
    },
    {
     "name": "stderr",
     "output_type": "stream",
     "text": [
      "Processing Papers:  94%|█████████████████████████████████████████████████████████████████████████████████████████████████████████████████▉       | 372/395 [02:30<00:09,  2.36paper/s]"
     ]
    },
    {
     "name": "stdout",
     "output_type": "stream",
     "text": [
      "Saved degraded: degraded_pdfs_2/degraded_paper_337.pdf\n",
      "Processing: original_pdfs/paper_323.pdf\n"
     ]
    },
    {
     "name": "stderr",
     "output_type": "stream",
     "text": [
      "Processing Papers:  94%|██████████████████████████████████████████████████████████████████████████████████████████████████████████████████▎      | 373/395 [02:31<00:09,  2.24paper/s]"
     ]
    },
    {
     "name": "stdout",
     "output_type": "stream",
     "text": [
      "Saved degraded: degraded_pdfs_2/degraded_paper_323.pdf\n",
      "Processing: original_pdfs/paper_109.pdf\n"
     ]
    },
    {
     "name": "stderr",
     "output_type": "stream",
     "text": [
      "Processing Papers:  95%|██████████████████████████████████████████████████████████████████████████████████████████████████████████████████▌      | 374/395 [02:31<00:08,  2.41paper/s]"
     ]
    },
    {
     "name": "stdout",
     "output_type": "stream",
     "text": [
      "Saved degraded: degraded_pdfs_2/degraded_paper_109.pdf\n",
      "Processing: original_pdfs/paper_19.pdf\n"
     ]
    },
    {
     "name": "stderr",
     "output_type": "stream",
     "text": [
      "Processing Papers:  95%|██████████████████████████████████████████████████████████████████████████████████████████████████████████████████▊      | 375/395 [02:32<00:09,  2.11paper/s]"
     ]
    },
    {
     "name": "stdout",
     "output_type": "stream",
     "text": [
      "Saved degraded: degraded_pdfs_2/degraded_paper_19.pdf\n",
      "Processing: original_pdfs/paper_31.pdf\n"
     ]
    },
    {
     "name": "stderr",
     "output_type": "stream",
     "text": [
      "Processing Papers:  95%|███████████████████████████████████████████████████████████████████████████████████████████████████████████████████▏     | 376/395 [02:32<00:08,  2.37paper/s]"
     ]
    },
    {
     "name": "stdout",
     "output_type": "stream",
     "text": [
      "Saved degraded: degraded_pdfs_2/degraded_paper_31.pdf\n",
      "Processing: original_pdfs/paper_135.pdf\n"
     ]
    },
    {
     "name": "stderr",
     "output_type": "stream",
     "text": [
      "Processing Papers:  96%|███████████████████████████████████████████████████████████████████████████████████████████████████████████████████▊     | 378/395 [02:33<00:05,  2.95paper/s]"
     ]
    },
    {
     "name": "stdout",
     "output_type": "stream",
     "text": [
      "Saved degraded: degraded_pdfs_2/degraded_paper_135.pdf\n",
      "Processing: original_pdfs/paper_121.pdf\n",
      "Saved degraded: degraded_pdfs_2/degraded_paper_121.pdf\n",
      "Processing: original_pdfs/paper_25.pdf\n"
     ]
    },
    {
     "name": "stderr",
     "output_type": "stream",
     "text": [
      "Processing Papers:  96%|████████████████████████████████████████████████████████████████████████████████████████████████████████████████████     | 379/395 [02:33<00:05,  2.85paper/s]"
     ]
    },
    {
     "name": "stdout",
     "output_type": "stream",
     "text": [
      "Saved degraded: degraded_pdfs_2/degraded_paper_25.pdf\n",
      "Processing: original_pdfs/paper_243.pdf\n"
     ]
    },
    {
     "name": "stderr",
     "output_type": "stream",
     "text": [
      "Processing Papers:  96%|████████████████████████████████████████████████████████████████████████████████████████████████████████████████████▍    | 380/395 [02:33<00:04,  3.15paper/s]"
     ]
    },
    {
     "name": "stdout",
     "output_type": "stream",
     "text": [
      "Saved degraded: degraded_pdfs_2/degraded_paper_243.pdf\n",
      "Processing: original_pdfs/paper_257.pdf\n"
     ]
    },
    {
     "name": "stderr",
     "output_type": "stream",
     "text": [
      "Processing Papers:  96%|████████████████████████████████████████████████████████████████████████████████████████████████████████████████████▋    | 381/395 [02:34<00:04,  3.25paper/s]"
     ]
    },
    {
     "name": "stdout",
     "output_type": "stream",
     "text": [
      "Saved degraded: degraded_pdfs_2/degraded_paper_257.pdf\n",
      "Processing: original_pdfs/paper_280.pdf\n",
      "Saved degraded: degraded_pdfs_2/degraded_paper_280.pdf\n",
      "Processing: original_pdfs/paper_294.pdf\n"
     ]
    },
    {
     "name": "stderr",
     "output_type": "stream",
     "text": [
      "Processing Papers:  97%|█████████████████████████████████████████████████████████████████████████████████████████████████████████████████████▎   | 383/395 [02:34<00:03,  3.31paper/s]"
     ]
    },
    {
     "name": "stdout",
     "output_type": "stream",
     "text": [
      "Saved degraded: degraded_pdfs_2/degraded_paper_294.pdf\n",
      "Processing: original_pdfs/paper_295.pdf\n"
     ]
    },
    {
     "name": "stderr",
     "output_type": "stream",
     "text": [
      "Processing Papers:  97%|█████████████████████████████████████████████████████████████████████████████████████████████████████████████████████▋   | 384/395 [02:35<00:04,  2.48paper/s]"
     ]
    },
    {
     "name": "stdout",
     "output_type": "stream",
     "text": [
      "Saved degraded: degraded_pdfs_2/degraded_paper_295.pdf\n",
      "Processing: original_pdfs/paper_281.pdf\n"
     ]
    },
    {
     "name": "stderr",
     "output_type": "stream",
     "text": [
      "Processing Papers:  97%|█████████████████████████████████████████████████████████████████████████████████████████████████████████████████████▉   | 385/395 [02:35<00:03,  2.78paper/s]"
     ]
    },
    {
     "name": "stdout",
     "output_type": "stream",
     "text": [
      "Saved degraded: degraded_pdfs_2/degraded_paper_281.pdf\n",
      "Processing: original_pdfs/paper_256.pdf\n"
     ]
    },
    {
     "name": "stderr",
     "output_type": "stream",
     "text": [
      "Processing Papers:  98%|██████████████████████████████████████████████████████████████████████████████████████████████████████████████████████▏  | 386/395 [02:35<00:02,  3.11paper/s]"
     ]
    },
    {
     "name": "stdout",
     "output_type": "stream",
     "text": [
      "Saved degraded: degraded_pdfs_2/degraded_paper_256.pdf\n",
      "Processing: original_pdfs/paper_242.pdf\n"
     ]
    },
    {
     "name": "stderr",
     "output_type": "stream",
     "text": [
      "Processing Papers:  98%|██████████████████████████████████████████████████████████████████████████████████████████████████████████████████████▌  | 387/395 [02:36<00:03,  2.54paper/s]"
     ]
    },
    {
     "name": "stdout",
     "output_type": "stream",
     "text": [
      "Saved degraded: degraded_pdfs_2/degraded_paper_242.pdf\n",
      "Processing: original_pdfs/paper_120.pdf\n"
     ]
    },
    {
     "name": "stderr",
     "output_type": "stream",
     "text": [
      "Processing Papers:  98%|██████████████████████████████████████████████████████████████████████████████████████████████████████████████████████▊  | 388/395 [02:37<00:02,  2.42paper/s]"
     ]
    },
    {
     "name": "stdout",
     "output_type": "stream",
     "text": [
      "Saved degraded: degraded_pdfs_2/degraded_paper_120.pdf\n",
      "Processing: original_pdfs/paper_24.pdf\n"
     ]
    },
    {
     "name": "stderr",
     "output_type": "stream",
     "text": [
      "Processing Papers:  98%|███████████████████████████████████████████████████████████████████████████████████████████████████████████████████████▏ | 389/395 [02:37<00:02,  2.71paper/s]"
     ]
    },
    {
     "name": "stdout",
     "output_type": "stream",
     "text": [
      "Saved degraded: degraded_pdfs_2/degraded_paper_24.pdf\n",
      "Processing: original_pdfs/paper_30.pdf\n"
     ]
    },
    {
     "name": "stderr",
     "output_type": "stream",
     "text": [
      "Processing Papers:  99%|███████████████████████████████████████████████████████████████████████████████████████████████████████████████████████▍ | 390/395 [02:37<00:01,  3.06paper/s]"
     ]
    },
    {
     "name": "stdout",
     "output_type": "stream",
     "text": [
      "Saved degraded: degraded_pdfs_2/degraded_paper_30.pdf\n",
      "Processing: original_pdfs/paper_134.pdf\n"
     ]
    },
    {
     "name": "stderr",
     "output_type": "stream",
     "text": [
      "Processing Papers:  99%|███████████████████████████████████████████████████████████████████████████████████████████████████████████████████████▊ | 391/395 [02:37<00:01,  3.20paper/s]"
     ]
    },
    {
     "name": "stdout",
     "output_type": "stream",
     "text": [
      "Saved degraded: degraded_pdfs_2/degraded_paper_134.pdf\n",
      "Processing: original_pdfs/paper_18.pdf\n"
     ]
    },
    {
     "name": "stderr",
     "output_type": "stream",
     "text": [
      "Processing Papers:  99%|████████████████████████████████████████████████████████████████████████████████████████████████████████████████████████ | 392/395 [02:38<00:00,  3.37paper/s]"
     ]
    },
    {
     "name": "stdout",
     "output_type": "stream",
     "text": [
      "Saved degraded: degraded_pdfs_2/degraded_paper_18.pdf\n",
      "Processing: original_pdfs/paper_108.pdf\n"
     ]
    },
    {
     "name": "stderr",
     "output_type": "stream",
     "text": [
      "Processing Papers:  99%|████████████████████████████████████████████████████████████████████████████████████████████████████████████████████████▍| 393/395 [02:38<00:00,  3.33paper/s]"
     ]
    },
    {
     "name": "stdout",
     "output_type": "stream",
     "text": [
      "Saved degraded: degraded_pdfs_2/degraded_paper_108.pdf\n",
      "Processing: original_pdfs/paper_322.pdf\n"
     ]
    },
    {
     "name": "stderr",
     "output_type": "stream",
     "text": [
      "Processing Papers: 100%|████████████████████████████████████████████████████████████████████████████████████████████████████████████████████████▋| 394/395 [02:39<00:00,  2.34paper/s]"
     ]
    },
    {
     "name": "stdout",
     "output_type": "stream",
     "text": [
      "Saved degraded: degraded_pdfs_2/degraded_paper_322.pdf\n",
      "Processing: original_pdfs/paper_336.pdf\n"
     ]
    },
    {
     "name": "stderr",
     "output_type": "stream",
     "text": [
      "Processing Papers: 100%|█████████████████████████████████████████████████████████████████████████████████████████████████████████████████████████| 395/395 [02:39<00:00,  2.48paper/s]"
     ]
    },
    {
     "name": "stdout",
     "output_type": "stream",
     "text": [
      "Saved degraded: degraded_pdfs_2/degraded_paper_336.pdf\n",
      "Successfully processed 395/395 papers.\n"
     ]
    },
    {
     "name": "stderr",
     "output_type": "stream",
     "text": [
      "\n"
     ]
    }
   ],
   "source": [
    "import fitz  # PyMuPDF for PDF manipulation\n",
    "import os\n",
    "import random\n",
    "import re\n",
    "from nltk.tokenize import sent_tokenize, word_tokenize\n",
    "import nltk\n",
    "from tqdm import tqdm\n",
    "\n",
    "# Download necessary NLTK data\n",
    "try:\n",
    "    nltk.data.find('tokenizers/punkt')\n",
    "except LookupError:\n",
    "    print(\"Downloading 'punkt' for NLTK...\")\n",
    "    nltk.download('punkt')\n",
    "\n",
    "# Create directories if they don’t exist\n",
    "def ensure_dir(directory):\n",
    "    if not os.path.exists(directory):\n",
    "        os.makedirs(directory)\n",
    "\n",
    "# List of common academic phrases with subtle errors\n",
    "ACADEMIC_PHRASE_REPLACEMENTS = {\n",
    "    \"significant results\": \"somewhat significant results\",\n",
    "    \"clearly demonstrates\": \"possibly demonstrates\",\n",
    "    \"strongly correlated\": \"weakly correlated\",\n",
    "    \"highly effective\": \"moderately effective\",\n",
    "    \"novel approach\": \"somewhat novel approach\",\n",
    "    \"state-of-the-art\": \"near state-of-the-art\",\n",
    "    \"outperforms\": \"slightly outperforms\",\n",
    "    \"substantial improvement\": \"minor improvement\",\n",
    "    \"robust performance\": \"inconsistent performance\",\n",
    "    \"conclusive evidence\": \"preliminary evidence\",\n",
    "    \"optimal solution\": \"suboptimal solution\",\n",
    "    \"comprehensive analysis\": \"partial analysis\",\n",
    "    \"rigorous evaluation\": \"limited evaluation\",\n",
    "    \"critical insight\": \"potential insight\",\n",
    "    \"innovative method\": \"derivative method\",\n",
    "    \"experimental validation\": \"partial validation\",\n",
    "    \"theoretical foundation\": \"theoretical assumption\",\n",
    "    \"remarkable efficiency\": \"reasonable efficiency\",\n",
    "    \"promising results\": \"mixed results\",\n",
    "    \"consistent with prior work\": \"somewhat consistent with prior work\",\n",
    "}\n",
    "\n",
    "# Slightly alter citation formatting\n",
    "def degrade_citations(text):\n",
    "    citation_patterns = [\n",
    "        (r'\\[(\\d+)\\]', r'[Ref. \\1]'),\n",
    "        (r'\\(([A-Za-z]+) et al\\., (\\d{4})\\)', r'(\\1 et al \\2)'),\n",
    "        (r'\\(([A-Za-z]+) and ([A-Za-z]+), (\\d{4})\\)', r'(\\1 & \\2 \\3)'),\n",
    "    ]\n",
    "    \n",
    "    degraded = text\n",
    "    for pattern, replacement in citation_patterns:\n",
    "        if random.random() < 0.7:\n",
    "            degraded = re.sub(pattern, replacement, degraded)\n",
    "    \n",
    "    return degraded\n",
    "\n",
    "# Introduce subtle grammar and punctuation issues\n",
    "def degrade_grammar_punctuation(sentence):\n",
    "    if random.random() > 0.3:\n",
    "        return sentence\n",
    "    \n",
    "    degradations = [\n",
    "        lambda s: re.sub(r', ', ' ', s, count=1) if ', ' in s else s,\n",
    "        lambda s: s.replace(' the ', ' the the ', 1) if ' the ' in s else s,\n",
    "        lambda s: s.replace('. ', '; ', 1) if '. ' in s else s.replace('; ', '. ', 1) if '; ' in s else s,\n",
    "        lambda s: s.replace(' is ', ' is essentially ', 1) if ' is ' in s else s,\n",
    "        lambda s: s.replace(' demonstrates ', ' demonstrated ', 1) if ' demonstrates ' in s else s,\n",
    "    ]\n",
    "    \n",
    "    degradation = random.choice(degradations)\n",
    "    return degradation(sentence)\n",
    "\n",
    "# Introduce subtle statistical reporting issues\n",
    "def degrade_statistics(text):\n",
    "    p_val_pattern = r'(p\\s*<\\s*0\\.0\\d{1,2})'\n",
    "    r_sq_pattern = r'(R\\s*\\^\\s*2\\s*=\\s*0\\.\\d{1,2})'\n",
    "    \n",
    "    def alter_p_value(match):\n",
    "        if random.random() > 0.6:\n",
    "            return match.group(0)\n",
    "        p_val = match.group(0)\n",
    "        return p_val.replace('0.0', '0.0') + '5'\n",
    "    \n",
    "    def alter_r_squared(match):\n",
    "        if random.random() > 0.6:\n",
    "            return match.group(0)\n",
    "        r_sq = match.group(0)\n",
    "        last_digit = int(r_sq[-1])\n",
    "        if last_digit > 0:\n",
    "            return r_sq[:-1] + str(last_digit - 1)\n",
    "        return r_sq\n",
    "    \n",
    "    degraded = re.sub(p_val_pattern, alter_p_value, text)\n",
    "    degraded = re.sub(r_sq_pattern, alter_r_squared, degraded)\n",
    "    \n",
    "    return degraded\n",
    "\n",
    "# Introduce occasional terminology inconsistencies\n",
    "def degrade_terminology(text):\n",
    "    common_terms = {\n",
    "        \"neural network\": [\"neural net\", \"neural-network\", \"NN\"],\n",
    "        \"deep learning\": [\"DL\", \"deep-learning\", \"deep neural network\"],\n",
    "        \"machine learning\": [\"ML\", \"machine-learning\", \"statistical learning\"],\n",
    "        \"artificial intelligence\": [\"AI\", \"artificial-intelligence\", \"computational intelligence\"],\n",
    "        \"convolutional neural network\": [\"CNN\", \"ConvNet\", \"convolutional network\"],\n",
    "        \"recurrent neural network\": [\"RNN\", \"recurrent net\", \"sequential neural network\"],\n",
    "        \"dataset\": [\"data set\", \"data\", \"training set\"],\n",
    "        \"algorithm\": [\"method\", \"approach\", \"technique\"],\n",
    "        \"parameter\": [\"parameter value\", \"hyperparameter\", \"model parameter\"],\n",
    "        \"experiment\": [\"experimental setup\", \"empirical evaluation\", \"test\"],\n",
    "    }\n",
    "    \n",
    "    degraded = text\n",
    "    terms_to_replace = random.sample(list(common_terms.keys()), min(3, len(common_terms)))\n",
    "    \n",
    "    for term in terms_to_replace:\n",
    "        if term in degraded and random.random() < 0.6:\n",
    "            replacement = random.choice(common_terms[term])\n",
    "            pattern = r'\\b' + re.escape(term) + r'\\b'\n",
    "            match = re.search(pattern, degraded)\n",
    "            if match:\n",
    "                pos = match.start()\n",
    "                degraded = degraded[:pos] + replacement + degraded[pos+len(term):]\n",
    "    \n",
    "    return degraded\n",
    "\n",
    "# Slightly modify equations (fixed invalid group reference)\n",
    "def degrade_equations(text):\n",
    "    equation_patterns = [\n",
    "        (r'([A-Za-z])\\s*=\\s*([A-Za-z0-9]+)\\s*\\+\\s*([A-Za-z0-9]+)', r'\\1 = \\2 - \\3'),  # Change + to -\n",
    "        (r'([A-Za-z])\\s*=\\s*([A-Za-z0-9]+)\\s*\\/\\s*([A-Za-z0-9]+)', r'\\1 = \\2 * \\3'),  # Change / to *\n",
    "        (r'([A-Za-z])\\s*\\^\\s*2', r'\\1^3'),  # Change squared to cubed (fixed: no \\3 reference)\n",
    "    ]\n",
    "    \n",
    "    degraded = text\n",
    "    for pattern, replacement in equation_patterns:\n",
    "        try:\n",
    "            if random.random() < 0.4:\n",
    "                degraded = re.sub(pattern, replacement, degraded, count=1)\n",
    "        except re.error as e:\n",
    "            tqdm.write(f\"Regex error in degrade_equations: {str(e)}. Skipping this pattern.\")\n",
    "    \n",
    "    return degraded\n",
    "\n",
    "# Introduce subtle formatting issues in lists and enumerations\n",
    "def degrade_lists(text):\n",
    "    numbered_pattern = r'(\\d+)\\.\\s+([A-Z][^\\.]+\\.)'\n",
    "    bullet_pattern = r'•\\s+([A-Z][^\\.]+\\.)'\n",
    "    \n",
    "    if random.random() < 0.5:\n",
    "        degraded = re.sub(numbered_pattern, r'• \\2', text, count=random.randint(1, 2))\n",
    "    else:\n",
    "        start_num = random.randint(2, 5)\n",
    "        degraded = text\n",
    "        bullet_matches = list(re.finditer(bullet_pattern, text))\n",
    "        \n",
    "        for i, match in enumerate(bullet_matches[:2]):\n",
    "            if random.random() < 0.7:\n",
    "                pos = match.start()\n",
    "                replacement = f\"{start_num + i}. {match.group(1)}\"\n",
    "                degraded = degraded[:pos] + replacement + degraded[pos+len(match.group(0)):]\n",
    "    \n",
    "    return degraded\n",
    "\n",
    "# Comprehensive text degradation with subtle academic quality issues\n",
    "def degrade_text_academic(text):\n",
    "    if not text or len(text) < 100:\n",
    "        return text\n",
    "    \n",
    "    try:\n",
    "        sentences = sent_tokenize(text)\n",
    "        paragraphs = []\n",
    "        current_paragraph = []\n",
    "        \n",
    "        for sent in sentences:\n",
    "            current_paragraph.append(sent)\n",
    "            if len(sent) > 50 and sent.endswith('.') and random.random() < 0.3:\n",
    "                paragraphs.append(' '.join(current_paragraph))\n",
    "                current_paragraph = []\n",
    "        \n",
    "        if current_paragraph:\n",
    "            paragraphs.append(' '.join(current_paragraph))\n",
    "        \n",
    "        degraded_paragraphs = []\n",
    "        \n",
    "        for paragraph in paragraphs:\n",
    "            for phrase, replacement in ACADEMIC_PHRASE_REPLACEMENTS.items():\n",
    "                if phrase in paragraph and random.random() < 0.4:\n",
    "                    paragraph = paragraph.replace(phrase, replacement, 1)\n",
    "            \n",
    "            paragraph = degrade_citations(paragraph)\n",
    "            \n",
    "            sentences = sent_tokenize(paragraph)\n",
    "            degraded_sentences = []\n",
    "            \n",
    "            for sent in sentences:\n",
    "                sent = degrade_grammar_punctuation(sent)\n",
    "                degraded_sentences.append(sent)\n",
    "            \n",
    "            degraded_paragraph = ' '.join(degraded_sentences)\n",
    "            degraded_paragraph = degrade_terminology(degraded_paragraph)\n",
    "            degraded_paragraph = degrade_statistics(degraded_paragraph)\n",
    "            degraded_paragraph = degrade_equations(degraded_paragraph)\n",
    "            degraded_paragraph = degrade_lists(degraded_paragraph)\n",
    "            \n",
    "            degraded_paragraphs.append(degraded_paragraph)\n",
    "        \n",
    "        final_paragraphs = []\n",
    "        i = 0\n",
    "        while i < len(degraded_paragraphs):\n",
    "            if i < len(degraded_paragraphs) - 1 and random.random() < 0.2:\n",
    "                final_paragraphs.append(degraded_paragraphs[i] + ' ' + degraded_paragraphs[i+1])\n",
    "                i += 2\n",
    "            elif len(degraded_paragraphs[i].split()) > 100 and random.random() < 0.3:\n",
    "                sentences = sent_tokenize(degraded_paragraphs[i])\n",
    "                split_point = len(sentences) // 2\n",
    "                final_paragraphs.append(' '.join(sentences[:split_point]))\n",
    "                final_paragraphs.append(' '.join(sentences[split_point:]))\n",
    "                i += 1\n",
    "            else:\n",
    "                final_paragraphs.append(degraded_paragraphs[i])\n",
    "                i += 1\n",
    "        \n",
    "        for i, para in enumerate(final_paragraphs):\n",
    "            if \"abstract\" in para.lower()[:50] or \"introduction\" in para.lower()[:50]:\n",
    "                final_paragraphs[i] = para.replace(\"demonstrates\", \"suggests\").replace(\"proves\", \"indicates\")\n",
    "            elif \"conclusion\" in para.lower()[:50] or \"discussion\" in para.lower()[:50]:\n",
    "                final_paragraphs[i] = para.replace(\"future work\", \"possible future direction\").replace(\"clearly shows\", \"appears to show\")\n",
    "        \n",
    "        for i, para in enumerate(final_paragraphs):\n",
    "            if \"references\" in para.lower()[:50] or \"bibliography\" in para.lower()[:50]:\n",
    "                refs = para.split(\"\\n\")\n",
    "                degraded_refs = []\n",
    "                for ref in refs:\n",
    "                    if random.random() < 0.3:\n",
    "                        if \"et al.\" in ref:\n",
    "                            ref = ref.replace(\"et al.\", \"et al\")\n",
    "                        elif \", pp.\" in ref:\n",
    "                            ref = ref.replace(\", pp.\", \", p.\")\n",
    "                        elif \"(\" in ref and \")\" in ref:\n",
    "                            ref = ref.replace(\"(\", \"[\").replace(\")\", \"]\")\n",
    "                    degraded_refs.append(ref)\n",
    "                final_paragraphs[i] = \"\\n\".join(degraded_refs)\n",
    "        \n",
    "        result = \"\\n\\n\".join(final_paragraphs)\n",
    "        return result\n",
    "    \n",
    "    except Exception as e:\n",
    "        tqdm.write(f\"Error during academic degradation: {str(e)}. Returning original text.\")\n",
    "        return text\n",
    "\n",
    "# Improved PDF text extraction\n",
    "def extract_text_from_pdf(pdf_path):\n",
    "    try:\n",
    "        doc = fitz.open(pdf_path)\n",
    "        text = \"\"\n",
    "        \n",
    "        for page_num in range(len(doc)):\n",
    "            try:\n",
    "                page = doc.load_page(page_num)\n",
    "                page_text = page.get_text(\"text\")\n",
    "                \n",
    "                if page_text:\n",
    "                    text += page_text + \"\\n\"\n",
    "                else:\n",
    "                    raw_dict = page.get_text(\"rawdict\")\n",
    "                    if raw_dict and \"blocks\" in raw_dict:\n",
    "                        for block in raw_dict[\"blocks\"]:\n",
    "                            if \"lines\" in block:\n",
    "                                for line in block[\"lines\"]:\n",
    "                                    if \"spans\" in line:\n",
    "                                        for span in line[\"spans\"]:\n",
    "                                            if \"text\" in span:\n",
    "                                                text += span[\"text\"] + \" \"\n",
    "            except Exception as e:\n",
    "                tqdm.write(f\"Error extracting text from page {page_num}: {str(e)}\")\n",
    "        \n",
    "        doc.close()\n",
    "        clean_text = text.encode('utf-8', errors='replace').decode('utf-8', errors='replace')\n",
    "        return clean_text\n",
    "    except Exception as e:\n",
    "        tqdm.write(f\"Error opening or processing PDF: {str(e)}\")\n",
    "        return \"\"\n",
    "\n",
    "# Extract structure information from PDF\n",
    "def extract_pdf_structure(pdf_path):\n",
    "    structure = {\n",
    "        \"title\": \"\",\n",
    "        \"abstract\": \"\",\n",
    "        \"sections\": [],\n",
    "        \"has_equations\": False,\n",
    "        \"has_tables\": False,\n",
    "        \"has_figures\": False,\n",
    "        \"has_references\": False\n",
    "    }\n",
    "    \n",
    "    try:\n",
    "        doc = fitz.open(pdf_path)\n",
    "        text = extract_text_from_pdf(pdf_path)\n",
    "        \n",
    "        lines = text.split('\\n')\n",
    "        current_section = None\n",
    "        \n",
    "        for i, line in enumerate(lines):\n",
    "            if i < 5 and not structure[\"title\"] and len(line.strip()) > 10 and line.strip().isupper():\n",
    "                structure[\"title\"] = line.strip()\n",
    "            \n",
    "            if \"abstract\" in line.lower() and i < 20:\n",
    "                structure[\"abstract\"] = True\n",
    "            \n",
    "            if re.match(r'^\\d+\\.\\s+[A-Z]', line) or line.strip().isupper() and len(line.strip()) < 40:\n",
    "                current_section = line.strip()\n",
    "                structure[\"sections\"].append(current_section)\n",
    "            \n",
    "            if \"table\" in line.lower() and \":\" in line:\n",
    "                structure[\"has_tables\"] = True\n",
    "            if \"figure\" in line.lower() and \":\" in line:\n",
    "                structure[\"has_figures\"] = True\n",
    "            if \"reference\" in line.lower() or \"bibliography\" in line.lower():\n",
    "                structure[\"has_references\"] = True\n",
    "            if re.search(r'[a-zA-Z]\\s*[=<>]\\s*[a-zA-Z0-9]', line) or re.search(r'\\([a-zA-Z0-9]+\\)', line):\n",
    "                structure[\"has_equations\"] = True\n",
    "        \n",
    "        common_sections = [\"introduction\", \"related work\", \"method\", \"experiment\", \"result\", \"discussion\", \"conclusion\"]\n",
    "        structure[\"has_standard_structure\"] = any(section.lower() in ' '.join(structure[\"sections\"]).lower() for section in common_sections)\n",
    "        \n",
    "        doc.close()\n",
    "        return structure\n",
    "    except Exception as e:\n",
    "        tqdm.write(f\"Error extracting structure: {str(e)}\")\n",
    "        return structure\n",
    "\n",
    "# Create a degraded PDF with subtle academic quality issues\n",
    "def create_degraded_pdf(original_text, structure, output_path):\n",
    "    try:\n",
    "        degraded_doc = fitz.open()\n",
    "        y_pos = 50\n",
    "        margin = 72\n",
    "        \n",
    "        page = degraded_doc.new_page()\n",
    "        if structure[\"title\"]:\n",
    "            page.insert_text((margin, y_pos), structure[\"title\"], fontsize=14, fontname=\"Times-Roman\")\n",
    "            y_pos += 30\n",
    "        \n",
    "        paragraphs = original_text.split('\\n\\n')\n",
    "        current_page = page\n",
    "        \n",
    "        for paragraph in paragraphs:\n",
    "            if not paragraph.strip():\n",
    "                continue\n",
    "                \n",
    "            if len(paragraph) < 50 and (paragraph.isupper() or re.match(r'^\\d+\\.\\s+', paragraph)):\n",
    "                fontsize = 12\n",
    "                if random.random() < 0.3:\n",
    "                    fontsize = 11 if random.random() < 0.5 else 13\n",
    "                \n",
    "                y_pos += random.randint(10, 20)\n",
    "                \n",
    "                if y_pos > 750:\n",
    "                    current_page = degraded_doc.new_page()\n",
    "                    y_pos = 50\n",
    "                \n",
    "                current_page.insert_text((margin, y_pos), paragraph, fontsize=fontsize, fontname=\"Times-Bold\")\n",
    "                y_pos += 20\n",
    "                continue\n",
    "            \n",
    "            fontsize = 10\n",
    "            if random.random() < 0.2:\n",
    "                fontsize = 9.5 if random.random() < 0.5 else 10.5\n",
    "            \n",
    "            words = paragraph.split()\n",
    "            current_line = []\n",
    "            line_width = 0\n",
    "            max_width = 500\n",
    "            \n",
    "            for word in words:\n",
    "                word_width = len(word) * fontsize * 0.5\n",
    "                if line_width + word_width > max_width:\n",
    "                    if y_pos > 750:\n",
    "                        current_page = degraded_doc.new_page()\n",
    "                        y_pos = 50\n",
    "                    \n",
    "                    current_page.insert_text((margin, y_pos), ' '.join(current_line), fontsize=fontsize, fontname=\"Times-Roman\")\n",
    "                    y_pos += int(fontsize * 1.2)\n",
    "                    current_line = [word]\n",
    "                    line_width = word_width\n",
    "                else:\n",
    "                    current_line.append(word)\n",
    "                    line_width += word_width + 5\n",
    "            \n",
    "            if current_line:\n",
    "                if y_pos > 750:\n",
    "                    current_page = degraded_doc.new_page()\n",
    "                    y_pos = 50\n",
    "                \n",
    "                current_page.insert_text((margin, y_pos), ' '.join(current_line), fontsize=fontsize, fontname=\"Times-Roman\")\n",
    "                y_pos += int(fontsize * 1.5)\n",
    "        \n",
    "        degraded_doc.save(output_path)\n",
    "        degraded_doc.close()\n",
    "        return True\n",
    "    except Exception as e:\n",
    "        tqdm.write(f\"Error creating degraded PDF: {str(e)}\")\n",
    "        return False\n",
    "\n",
    "# Process existing PDFs and degrade them\n",
    "def create_degraded_dataset(original_dir=\"original_pdfs\", degraded_dir=\"degraded_pdfs\"):\n",
    "    ensure_dir(degraded_dir)\n",
    "    \n",
    "    print(f\"Processing PDFs from {original_dir}...\")\n",
    "    pdf_files = [f for f in os.listdir(original_dir) if f.endswith('.pdf')]\n",
    "    total_papers = len(pdf_files)\n",
    "    print(f\"Found {total_papers} papers to process.\")\n",
    "    \n",
    "    if total_papers == 0:\n",
    "        print(f\"No PDF files found in {original_dir}. Please add PDFs to the directory.\")\n",
    "        return\n",
    "    \n",
    "    successful = 0\n",
    "    for i, pdf_file in enumerate(tqdm(pdf_files, desc=\"Processing Papers\", unit=\"paper\")):\n",
    "        pdf_path = os.path.join(original_dir, pdf_file)\n",
    "        tqdm.write(f\"Processing: {pdf_path}\")\n",
    "        \n",
    "        try:\n",
    "            original_text = extract_text_from_pdf(pdf_path)\n",
    "            \n",
    "            if not original_text or len(original_text) < 500:\n",
    "                tqdm.write(f\"Insufficient text extracted from {pdf_file}. Skipping.\")\n",
    "                continue\n",
    "            \n",
    "            structure = extract_pdf_structure(pdf_path)\n",
    "            degraded_text = degrade_text_academic(original_text)\n",
    "            \n",
    "            degraded_filename = f\"degraded_{pdf_file}\"\n",
    "            degraded_path = os.path.join(degraded_dir, degraded_filename)\n",
    "            if create_degraded_pdf(degraded_text, structure, degraded_path):\n",
    "                tqdm.write(f\"Saved degraded: {degraded_path}\")\n",
    "                successful += 1\n",
    "            else:\n",
    "                tqdm.write(f\"Failed to create degraded PDF for {pdf_file}.\")\n",
    "        except Exception as e:\n",
    "            tqdm.write(f\"Error processing {pdf_file}: {str(e)}\")\n",
    "    \n",
    "    print(f\"Successfully processed {successful}/{total_papers} papers.\")\n",
    "\n",
    "if __name__ == \"__main__\":\n",
    "    create_degraded_dataset(original_dir=\"original_pdfs\", degraded_dir=\"degraded_pdfs_2\")"
   ]
  },
  {
   "cell_type": "code",
   "execution_count": null,
   "id": "bde316a8-4b75-4847-a325-eef85e90ba7e",
   "metadata": {},
   "outputs": [],
   "source": []
  }
 ],
 "metadata": {
  "kernelspec": {
   "display_name": "Python 3 (ipykernel)",
   "language": "python",
   "name": "python3"
  },
  "language_info": {
   "codemirror_mode": {
    "name": "ipython",
    "version": 3
   },
   "file_extension": ".py",
   "mimetype": "text/x-python",
   "name": "python",
   "nbconvert_exporter": "python",
   "pygments_lexer": "ipython3",
   "version": "3.12.4"
  }
 },
 "nbformat": 4,
 "nbformat_minor": 5
}
